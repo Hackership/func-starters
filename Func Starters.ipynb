{
 "cells": [
  {
   "cell_type": "markdown",
   "metadata": {},
   "source": [
    "# Introduction to Functional Programming\n",
    "### Using Python"
   ]
  },
  {
   "cell_type": "markdown",
   "metadata": {},
   "source": [
    "## Intro"
   ]
  },
  {
   "cell_type": "markdown",
   "metadata": {},
   "source": [
    "### Lambda\n",
    "`lambda` is an operator in Python to define anonymous functions inline. The naming is derived from the _lambda calculus_ definition in mathematics, where it stands for a function of computation. As such in python `lambda` is restricted to be without side effects and return primarily return the results of a computation, which it does automatically. Let's take the following example function:"
   ]
  },
  {
   "cell_type": "code",
   "execution_count": 3,
   "metadata": {
    "collapsed": false
   },
   "outputs": [
    {
     "name": "stdout",
     "output_type": "stream",
     "text": [
      "2\n",
      "11\n"
     ]
    }
   ],
   "source": [
    "def add_one(x):\n",
    "    return x + 1\n",
    "\n",
    "print(add_one(1))\n",
    "print(add_one(10))"
   ]
  },
  {
   "cell_type": "markdown",
   "metadata": {},
   "source": [
    "We could also write this as a `lambda` like this:"
   ]
  },
  {
   "cell_type": "code",
   "execution_count": 5,
   "metadata": {
    "collapsed": false
   },
   "outputs": [
    {
     "name": "stdout",
     "output_type": "stream",
     "text": [
      "2\n",
      "11\n"
     ]
    }
   ],
   "source": [
    "add_one = lambda x: x + 1\n",
    "\n",
    "print(add_one(1))\n",
    "print(add_one(10))"
   ]
  },
  {
   "cell_type": "markdown",
   "metadata": {},
   "source": [
    "`lambda`'s are very handy for functional programming as they allow us to quickly define minor computations inline."
   ]
  },
  {
   "cell_type": "markdown",
   "metadata": {},
   "source": [
    "# Examples"
   ]
  },
  {
   "cell_type": "markdown",
   "metadata": {},
   "source": [
    "## ATM calculator\n",
    "Let's take the following example of a (pseudo) code to calculate the bills an ATM is supposed to hand out, when a certain amount is requested – which better not be in production anywhere:"
   ]
  },
  {
   "cell_type": "code",
   "execution_count": 45,
   "metadata": {
    "collapsed": false
   },
   "outputs": [],
   "source": [
    "def calculate_bills(amount):\n",
    "    bills = [100, 50, 20, 10, 5, 1]\n",
    "    results = {}\n",
    "    for b in bills:\n",
    "        results[b] = 0\n",
    "        while amount >= b:\n",
    "            results[b] += 1\n",
    "            amount -= b\n",
    "    return results\n"
   ]
  },
  {
   "cell_type": "code",
   "execution_count": 46,
   "metadata": {
    "collapsed": false
   },
   "outputs": [
    {
     "data": {
      "text/plain": [
       "{1: 0, 5: 0, 10: 0, 20: 0, 50: 0, 100: 1}"
      ]
     },
     "execution_count": 46,
     "metadata": {},
     "output_type": "execute_result"
    }
   ],
   "source": [
    "calculate_bills(100)"
   ]
  },
  {
   "cell_type": "code",
   "execution_count": 47,
   "metadata": {
    "collapsed": false
   },
   "outputs": [
    {
     "data": {
      "text/plain": [
       "{1: 0, 5: 0, 10: 1, 20: 1, 50: 1, 100: 0}"
      ]
     },
     "execution_count": 47,
     "metadata": {},
     "output_type": "execute_result"
    }
   ],
   "source": [
    "calculate_bills(80)"
   ]
  },
  {
   "cell_type": "code",
   "execution_count": 48,
   "metadata": {
    "collapsed": false
   },
   "outputs": [
    {
     "data": {
      "text/plain": [
       "{1: 2, 5: 0, 10: 0, 20: 2, 50: 1, 100: 0}"
      ]
     },
     "execution_count": 48,
     "metadata": {},
     "output_type": "execute_result"
    }
   ],
   "source": [
    "calculate_bills(92)"
   ]
  },
  {
   "cell_type": "markdown",
   "metadata": {},
   "source": [
    "### functional Example\n",
    "We can also write the same function in a more functional style"
   ]
  },
  {
   "cell_type": "code",
   "execution_count": 37,
   "metadata": {
    "collapsed": true
   },
   "outputs": [],
   "source": [
    "def calculate_bills(amount):\n",
    "    def calculate(amount, remaining_bills):\n",
    "        if not remaining_bills: return []\n",
    "        bill = remaining_bills[0]\n",
    "        count = abs(amount / bill)\n",
    "        return [count] + calculate(amount - (count * bill), remaining_bills[1:])\n",
    "\n",
    "    bills = [100, 50, 20, 10, 5, 1]\n",
    "    return dict(zip(bills, calculate(amount, bills)))"
   ]
  },
  {
   "cell_type": "code",
   "execution_count": 38,
   "metadata": {
    "collapsed": false
   },
   "outputs": [
    {
     "data": {
      "text/plain": [
       "{1: 2, 5: 0, 10: 0, 20: 2, 50: 1, 100: 0}"
      ]
     },
     "execution_count": 38,
     "metadata": {},
     "output_type": "execute_result"
    }
   ],
   "source": [
    "calculate_bills(92)"
   ]
  },
  {
   "cell_type": "code",
   "execution_count": 40,
   "metadata": {
    "collapsed": false
   },
   "outputs": [
    {
     "data": {
      "text/plain": [
       "{1: 4, 5: 1, 10: 0, 20: 0, 50: 0, 100: 1}"
      ]
     },
     "execution_count": 40,
     "metadata": {},
     "output_type": "execute_result"
    }
   ],
   "source": [
    "calculate_bills(109)"
   ]
  },
  {
   "cell_type": "markdown",
   "metadata": {},
   "source": [
    "### UFO Data\n",
    "We have a file `ufo_data.tsv` of about 76Mb here. This is a big chunk of data to go through. Ideally we want to process items one at a time. The following block returns us a `generator` which we can iterate over and does exactly that."
   ]
  },
  {
   "cell_type": "code",
   "execution_count": 91,
   "metadata": {
    "collapsed": false
   },
   "outputs": [],
   "source": [
    "import csv\n",
    "def read_ufo_data():\n",
    "    with open(\"ufo_data.tsv\", 'r') as f:\n",
    "        for row in csv.reader(f, delimiter=\"\\t\"):\n",
    "            yield row\n",
    "        "
   ]
  },
  {
   "cell_type": "code",
   "execution_count": 92,
   "metadata": {
    "collapsed": false
   },
   "outputs": [],
   "source": [
    "r = read_ufo_data()"
   ]
  },
  {
   "cell_type": "code",
   "execution_count": 93,
   "metadata": {
    "collapsed": false
   },
   "outputs": [
    {
     "data": {
      "text/plain": [
       "<generator object read_ufo_data at 0x10ae54550>"
      ]
     },
     "execution_count": 93,
     "metadata": {},
     "output_type": "execute_result"
    }
   ],
   "source": [
    "r"
   ]
  },
  {
   "cell_type": "markdown",
   "metadata": {},
   "source": [
    "Until now, we have only opened the file, we haven't even read the first line yet. This will only happen once we access the generator (by calling `next()` on it or iterating over it). These generator or iterator objects allow us to construct half-executed functions. That is called **lazy evulation** as they are only executed when it is needed. "
   ]
  },
  {
   "cell_type": "code",
   "execution_count": 94,
   "metadata": {
    "collapsed": false
   },
   "outputs": [],
   "source": [
    "a = r.next()"
   ]
  },
  {
   "cell_type": "code",
   "execution_count": 95,
   "metadata": {
    "collapsed": false
   },
   "outputs": [
    {
     "data": {
      "text/plain": [
       "['19951009',\n",
       " '19951009',\n",
       " ' Iowa City, IA',\n",
       " '',\n",
       " '',\n",
       " 'Man repts. witnessing &quot;flash, followed by a classic UFO, w/ a tailfin at back.&quot; Red color on top half of tailfin. Became triangular.']"
      ]
     },
     "execution_count": 95,
     "metadata": {},
     "output_type": "execute_result"
    }
   ],
   "source": [
    "a"
   ]
  },
  {
   "cell_type": "markdown",
   "metadata": {},
   "source": [
    "Now we have the first record of the file saved in the variable a. We have started **lazy evaluating** the code. To retrieve this record we did not have to load the entire content into memory and as soon as we release `a`, we will free this memory again. This can be very useful in various cases, like here when we are just interested to _find the first sighting in Australia_. **Excercise**: Can you write a short piece of code that finds that?\n",
    "\n",
    "Remember: the place is listed at index `2` and a `\"Australia\" in` is totally sufficient here ;) .\n"
   ]
  },
  {
   "cell_type": "code",
   "execution_count": 101,
   "metadata": {
    "collapsed": false
   },
   "outputs": [
    {
     "data": {
      "text/plain": [
       "['19970206',\n",
       " '19970212',\n",
       " ' Coober Pedy, S.A. (Approx. 250km south of) (Australia),',\n",
       " ' light',\n",
       " '',\n",
       " 'SUMMARY:  A stormy night on the Stuart Highway. Sighting of a UFO which appeared to land,  a UFO chasing the car some 50m behind, and the sighting of a man which was extremely unusual looking.The first event to happen was the sighting of a &apos;roadwork&apos; man sweeping the highway.  Whilst driving along the highway, an extremely bright light suddenly appeared in front of us. At first we thought it was a truck coming towards us - common on the highway-but as we drove towards it we realised it was a stationary truck with a bright light attatched to the front of the grill. Upon getting closer to the light, it was that bright and blinding that we had to slow down to 10kms just to see the road and where we were going. Half the road was closed and suddenly we were able to see a man. There he was sweeping the road at 21:30(approx) 200kms from the nearest roadhouse. We slowly drove up to him to explain that we could not see the road due to the light and essentialy could not see him. We now believe that not being able to see him was what he wanted. The man hardly showed his face and what we did see - he had an extremely high forehead and very wide set eyes. He was approx. 7 fee!t tall and of stocky build. He did not want us talking to him and made every attempt to get us to move on quickly. As we drove off the light slowly disappeared - which is what got us thinking. Due to the cloud cover that night, a light of that intensity would have cast quite a bit of glare i.e. we would have seen the light from quite a distance, however the light suddenly flashed on and we were not descending or ascending a hill! My questions at the time were who was he, what was he doing that far out of town at that time of night and what was he sweeping off the road?Eventually that passed as we drove along the highway again.Approximately 30mins after this happened an extremely bright light came up from behind us - we had not passed a car since the roadwork man - to within 50m of us. It followed  our car for about 4 seconds before disappearing. The lights intensity was similar to that of a cars high-beam headlights and was orange-yellow in colour. Neither of us said anything - we were starting to get spooked.As we were driving up the road we were heading into a storm. As we got closer to the storm I was checking the stars to see where the storm cloud started - it was that black that there was a definite black line where the storm cloud startes. As I was watching the stars I noticed an extremely orange star. As I continued watching it moved forward so it kept up with the car, not falling behind like the other stars were. From where we were this &apos;star&apos; was about 5-6mm across. As I continued watching the light moved on a diagonal path towards the horizon and was now in front of the car. This light continued downwards until it reached a point slightly above the horizon, if not on the horizon, and that is where it stayed until the blackness of the strom blocked my view.Among these happenings we passed a military style vehicle with no insignia which was cruising up the highway rather slowly. We could not see the driver as we passed the vehicle.The storm that we drove through was extremely active for about 2 hours until we actually reached it. (there had been continuous lightning for these two hours). Yet as soon as the light was blocked out by the clouds all lightning stopped. As far as we know a storm does not just stop suddenly.As we neared Coober Pedy, a white 4WD suddenly pulled out from the side of the road and forced our car to slow down considerably. In the back window of this car two shapes could be seen moving and I can tell you with all honesty that they did not look like dogs or humans or any other animal but I did not get a very good look at them so I cannot accurately say or judge what they were.We eventually made it to Coober Pedy and were relieved to see other humans.The whole event really spooked both me and my fiance and we have vowed never to travel on the highway agein at night. (the highway runs directly from Adelaide to Alice Springs and continues to Darwin, passing through townships and roadhouses.It passes through some of the most lonely land in Australia).As we checked out of our motel the next morning we metioned these events to the receptionist who just smiled and said oh well you wouldn&apos;t be the first to talk about things like that. That was all we could get out of her,she wouldn&apos;t talk anymore.For my fiance, it is the second time that he has witnessed events of a &apos;supernatural&apos; kind - he is in his late twenties. I have witnessed other happenings including metallic cigar shaped objects and other orange lights resembling stars but moving otherwise to indicate that they were not a star. I am 18.I am not providing my address as yet for security reasons - as well as I only connected to the net yesterday and haven&apos;t bothered yet to set up an e-mail address on my computer. I will watch this site for further information.I have provided this report because I know how hard it is to gain information on these matters. As well as in the interests of &apos;science&apos;.I hope you make some use of this report.']"
      ]
     },
     "execution_count": 101,
     "metadata": {},
     "output_type": "execute_result"
    }
   ],
   "source": [
    "filter(lambda x: \"Australia\" in x[2], read_ufo_data())[0]"
   ]
  },
  {
   "cell_type": "markdown",
   "metadata": {},
   "source": [
    "## An iterative way\n",
    "Although our iterator was doing lazy loading, `filter` generate an entire list, even though we only need the first sample. Obviously that is insufficient and we can do better in a more memory efficient manner. Introducing `itertools`. The [itertools](https://docs.python.org/2/library/itertools.html) library is preshipped with all (c)Python versions and contains iterative implementations of `map`, `filter` and such – appropriatly named `imap` and  `ifilter`. Lets use that one:"
   ]
  },
  {
   "cell_type": "code",
   "execution_count": 102,
   "metadata": {
    "collapsed": false
   },
   "outputs": [
    {
     "data": {
      "text/plain": [
       "<itertools.ifilter at 0x10ae78310>"
      ]
     },
     "execution_count": 102,
     "metadata": {},
     "output_type": "execute_result"
    }
   ],
   "source": [
    "ifilter(lambda x: \"Australia\" in x[2], read_ufo_data())"
   ]
  },
  {
   "cell_type": "markdown",
   "metadata": {},
   "source": [
    "Not only did that evaluate much quicker, as you can see, this creates another `iterator`, which means we are doing a lazy evaluation again. Let's use that to our advantage. To get the next (or in this case _first_) item, we can just call the `next()` function on it. Let's do that:"
   ]
  },
  {
   "cell_type": "code",
   "execution_count": 103,
   "metadata": {
    "collapsed": false
   },
   "outputs": [
    {
     "data": {
      "text/plain": [
       "['19970206',\n",
       " '19970212',\n",
       " ' Coober Pedy, S.A. (Approx. 250km south of) (Australia),',\n",
       " ' light',\n",
       " '',\n",
       " 'SUMMARY:  A stormy night on the Stuart Highway. Sighting of a UFO which appeared to land,  a UFO chasing the car some 50m behind, and the sighting of a man which was extremely unusual looking.The first event to happen was the sighting of a &apos;roadwork&apos; man sweeping the highway.  Whilst driving along the highway, an extremely bright light suddenly appeared in front of us. At first we thought it was a truck coming towards us - common on the highway-but as we drove towards it we realised it was a stationary truck with a bright light attatched to the front of the grill. Upon getting closer to the light, it was that bright and blinding that we had to slow down to 10kms just to see the road and where we were going. Half the road was closed and suddenly we were able to see a man. There he was sweeping the road at 21:30(approx) 200kms from the nearest roadhouse. We slowly drove up to him to explain that we could not see the road due to the light and essentialy could not see him. We now believe that not being able to see him was what he wanted. The man hardly showed his face and what we did see - he had an extremely high forehead and very wide set eyes. He was approx. 7 fee!t tall and of stocky build. He did not want us talking to him and made every attempt to get us to move on quickly. As we drove off the light slowly disappeared - which is what got us thinking. Due to the cloud cover that night, a light of that intensity would have cast quite a bit of glare i.e. we would have seen the light from quite a distance, however the light suddenly flashed on and we were not descending or ascending a hill! My questions at the time were who was he, what was he doing that far out of town at that time of night and what was he sweeping off the road?Eventually that passed as we drove along the highway again.Approximately 30mins after this happened an extremely bright light came up from behind us - we had not passed a car since the roadwork man - to within 50m of us. It followed  our car for about 4 seconds before disappearing. The lights intensity was similar to that of a cars high-beam headlights and was orange-yellow in colour. Neither of us said anything - we were starting to get spooked.As we were driving up the road we were heading into a storm. As we got closer to the storm I was checking the stars to see where the storm cloud started - it was that black that there was a definite black line where the storm cloud startes. As I was watching the stars I noticed an extremely orange star. As I continued watching it moved forward so it kept up with the car, not falling behind like the other stars were. From where we were this &apos;star&apos; was about 5-6mm across. As I continued watching the light moved on a diagonal path towards the horizon and was now in front of the car. This light continued downwards until it reached a point slightly above the horizon, if not on the horizon, and that is where it stayed until the blackness of the strom blocked my view.Among these happenings we passed a military style vehicle with no insignia which was cruising up the highway rather slowly. We could not see the driver as we passed the vehicle.The storm that we drove through was extremely active for about 2 hours until we actually reached it. (there had been continuous lightning for these two hours). Yet as soon as the light was blocked out by the clouds all lightning stopped. As far as we know a storm does not just stop suddenly.As we neared Coober Pedy, a white 4WD suddenly pulled out from the side of the road and forced our car to slow down considerably. In the back window of this car two shapes could be seen moving and I can tell you with all honesty that they did not look like dogs or humans or any other animal but I did not get a very good look at them so I cannot accurately say or judge what they were.We eventually made it to Coober Pedy and were relieved to see other humans.The whole event really spooked both me and my fiance and we have vowed never to travel on the highway agein at night. (the highway runs directly from Adelaide to Alice Springs and continues to Darwin, passing through townships and roadhouses.It passes through some of the most lonely land in Australia).As we checked out of our motel the next morning we metioned these events to the receptionist who just smiled and said oh well you wouldn&apos;t be the first to talk about things like that. That was all we could get out of her,she wouldn&apos;t talk anymore.For my fiance, it is the second time that he has witnessed events of a &apos;supernatural&apos; kind - he is in his late twenties. I have witnessed other happenings including metallic cigar shaped objects and other orange lights resembling stars but moving otherwise to indicate that they were not a star. I am 18.I am not providing my address as yet for security reasons - as well as I only connected to the net yesterday and haven&apos;t bothered yet to set up an e-mail address on my computer. I will watch this site for further information.I have provided this report because I know how hard it is to gain information on these matters. As well as in the interests of &apos;science&apos;.I hope you make some use of this report.']"
      ]
     },
     "execution_count": 103,
     "metadata": {},
     "output_type": "execute_result"
    }
   ],
   "source": [
    "ifilter(lambda x: \"Australia\" in x[2], read_ufo_data()).next()"
   ]
  },
  {
   "cell_type": "markdown",
   "metadata": {},
   "source": [
    "Well, that was much faster!\n",
    "\n",
    "That is because we have only been reading the file – line by line – to the point that it was necessary. Even better with every line we checked, the reference was discarded and the memory cleared. This kept the footprint of memory very low throughout the entire execution. While also being much faster!"
   ]
  },
  {
   "cell_type": "markdown",
   "metadata": {},
   "source": [
    "# Conway's Game of Life\n",
    "\n",
    "A classic computation example for a cool cellular emulation model – which has been studied over and over again – is [conway's game of life](https://en.wikipedia.org/wiki/Conway%27s_Game_of_Life). In its essence it is based on a matrix of cells, which live through life cycle and which every cycle they life or die depending on a very small set of rules:\n",
    "\n",
    " - Any live cell with fewer than two live neighbours dies, as if caused by under-population.\n",
    " - Any live cell with two or three live neighbours lives on to the next generation.\n",
    " - Any live cell with more than three live neighbours dies, as if by overcrowding.\n",
    " - Any dead cell with exactly three live neighbours becomes a live cell, as if by reproduction.\n",
    "\n",
    "Although these are rather simple, it allows for quite a few awesome thingies which happen:\n",
    "\n",
    "![](https://upload.wikimedia.org/wikipedia/commons/e/e5/Gospers_glider_gun.gif)\n",
    "\n",
    "Let's build this out in a purely functional manner:\n"
   ]
  },
  {
   "cell_type": "code",
   "execution_count": 104,
   "metadata": {
    "collapsed": true
   },
   "outputs": [],
   "source": [
    "def is_alive(cell, neighboors):\n",
    "    alive_neighboors = len(filter(lambda x: x, neighboors))\n",
    "    if not cell:\n",
    "        # Any dead cell with exactly three live neighbours becomes a live cell\n",
    "        return alive_neighboors == 3\n",
    "    \n",
    "    if alive_neighboors < 2:\n",
    "        # Any live cell with fewer than two live neighbours dies,\n",
    "        return False\n",
    "    \n",
    "    if alive_neighboors > 3:\n",
    "        # Any live cell with more than three live neighbours dies,\n",
    "        return False\n",
    "    \n",
    "    # Any live cell with two or three live neighbours lives on to the next generation\n",
    "    return True"
   ]
  },
  {
   "cell_type": "markdown",
   "metadata": {},
   "source": [
    "So the core of our algorithm is this decision maker. It takes a cell, represented with a truthy or falsy value representing its current state (`cell`) and a list of its neighboors, also represented through their current state as a truthy (_alive_) or falsy (_dead_) value."
   ]
  },
  {
   "cell_type": "markdown",
   "metadata": {},
   "source": [
    "# ---- STUFF BROKEN"
   ]
  },
  {
   "cell_type": "markdown",
   "metadata": {},
   "source": [
    "Given a grid as a list of values, and the number of cols and rows this list represents, we need to map the alive function over each and every cell. In order to be able to do that, we need to map over all cells and find its neighboors and then call is_alive on the cell. Alright, let's go:"
   ]
  },
  {
   "cell_type": "code",
   "execution_count": 244,
   "metadata": {
    "collapsed": false
   },
   "outputs": [],
   "source": [
    "def next_cycle(matrix):\n",
    "    def safe_get_at_index(row, col):\n",
    "        # a helper because for borders of the matrix, python throws exceptions\n",
    "        try:\n",
    "            return matrix[row][col]\n",
    "        except IndexError:\n",
    "            return False\n",
    "\n",
    "    # a helper which matches safe_get_at_index over all surrounding elements for a given col, row\n",
    "    get_neighboors = lambda row, col: map(lambda x: safe_get_at_index(row + x[0], col + x[1]), [\n",
    "                    (-1, -1),\n",
    "                    (-1, 0),\n",
    "                    (-1, 1),\n",
    "                    (0, -1),\n",
    "                    (0, 1),\n",
    "                    (1, -1),\n",
    "                    (1, 0),\n",
    "                    (1, 1)\n",
    "                   ])\n",
    "    \n",
    "    print get_neighboors(1,1)\n",
    "    print get_neighboors(4,4)\n",
    "    get_next_state = lambda row, col: is_alive(matrix[row][col], get_neighboors(row, col))\n",
    "    return map(lambda idx: get_next_state(idx[0], idx[1]),\n",
    "                   [ [(row_idx, x) for x in xrange( len( matrix[row_idx] ) ) ]\n",
    "                        for row_idx in xrange( len( matrix ) ) ]\n",
    "               )\n"
   ]
  },
  {
   "cell_type": "code",
   "execution_count": 237,
   "metadata": {
    "collapsed": false
   },
   "outputs": [],
   "source": [
    "def print_matrix(matrix):\n",
    "    for row in matrix:\n",
    "        print(\"\".join([cell and '#' or '·' for cell in row]))\n",
    "            "
   ]
  },
  {
   "cell_type": "code",
   "execution_count": 238,
   "metadata": {
    "collapsed": false
   },
   "outputs": [],
   "source": [
    "import random\n",
    "def random_matrix(cols=10, rows=10, prob=0.3):\n",
    "    for c in xrange(rows):\n",
    "        yield [random.random() <= prob for r in xrange(cols)]\n",
    "            "
   ]
  },
  {
   "cell_type": "code",
   "execution_count": 239,
   "metadata": {
    "collapsed": false
   },
   "outputs": [],
   "source": [
    "matrix = [x for x in random_matrix(10, 10)]"
   ]
  },
  {
   "cell_type": "code",
   "execution_count": 240,
   "metadata": {
    "collapsed": false
   },
   "outputs": [
    {
     "name": "stdout",
     "output_type": "stream",
     "text": [
      "···##·····\n",
      "··##····#·\n",
      "·#···###··\n",
      "#····#··#·\n",
      "·#······#·\n",
      "#··#······\n",
      "··#·······\n",
      "#······#··\n",
      "#······#··\n",
      "#··##···#·\n"
     ]
    }
   ],
   "source": [
    "print_matrix(matrix)"
   ]
  },
  {
   "cell_type": "code",
   "execution_count": 245,
   "metadata": {
    "collapsed": false
   },
   "outputs": [
    {
     "name": "stdout",
     "output_type": "stream",
     "text": [
      "[False, False, False, False, True, False, True, False]\n",
      "[False, False, True, False, False, True, False, False]\n"
     ]
    },
    {
     "ename": "TypeError",
     "evalue": "list indices must be integers, not tuple",
     "output_type": "error",
     "traceback": [
      "\u001b[0;31m---------------------------------------------------------------------------\u001b[0m",
      "\u001b[0;31mTypeError\u001b[0m                                 Traceback (most recent call last)",
      "\u001b[0;32m<ipython-input-245-634c100e5495>\u001b[0m in \u001b[0;36m<module>\u001b[0;34m()\u001b[0m\n\u001b[1;32m      1\u001b[0m \u001b[0;32mfor\u001b[0m \u001b[0mx\u001b[0m \u001b[0;32min\u001b[0m \u001b[0mxrange\u001b[0m\u001b[0;34m(\u001b[0m\u001b[0;36m10\u001b[0m\u001b[0;34m)\u001b[0m\u001b[0;34m:\u001b[0m\u001b[0;34m\u001b[0m\u001b[0m\n\u001b[0;32m----> 2\u001b[0;31m     \u001b[0mmatrix\u001b[0m \u001b[0;34m=\u001b[0m \u001b[0mnext_cycle\u001b[0m\u001b[0;34m(\u001b[0m\u001b[0mmatrix\u001b[0m\u001b[0;34m)\u001b[0m\u001b[0;34m\u001b[0m\u001b[0m\n\u001b[0m\u001b[1;32m      3\u001b[0m     \u001b[0;32mprint\u001b[0m\u001b[0;34m(\u001b[0m\u001b[0;34m\" ------------------- {}\"\u001b[0m\u001b[0;34m.\u001b[0m\u001b[0mformat\u001b[0m\u001b[0;34m(\u001b[0m\u001b[0mx\u001b[0m\u001b[0;34m)\u001b[0m\u001b[0;34m)\u001b[0m\u001b[0;34m\u001b[0m\u001b[0m\n\u001b[1;32m      4\u001b[0m     \u001b[0mprint_matrix\u001b[0m\u001b[0;34m(\u001b[0m\u001b[0mmatrix\u001b[0m\u001b[0;34m)\u001b[0m\u001b[0;34m\u001b[0m\u001b[0m\n",
      "\u001b[0;32m<ipython-input-244-cc6d20c837e1>\u001b[0m in \u001b[0;36mnext_cycle\u001b[0;34m(matrix)\u001b[0m\n\u001b[1;32m     23\u001b[0m     \u001b[0mget_next_state\u001b[0m \u001b[0;34m=\u001b[0m \u001b[0;32mlambda\u001b[0m \u001b[0mrow\u001b[0m\u001b[0;34m,\u001b[0m \u001b[0mcol\u001b[0m\u001b[0;34m:\u001b[0m \u001b[0mis_alive\u001b[0m\u001b[0;34m(\u001b[0m\u001b[0mmatrix\u001b[0m\u001b[0;34m[\u001b[0m\u001b[0mrow\u001b[0m\u001b[0;34m]\u001b[0m\u001b[0;34m[\u001b[0m\u001b[0mcol\u001b[0m\u001b[0;34m]\u001b[0m\u001b[0;34m,\u001b[0m \u001b[0mget_neighboors\u001b[0m\u001b[0;34m(\u001b[0m\u001b[0mrow\u001b[0m\u001b[0;34m,\u001b[0m \u001b[0mcol\u001b[0m\u001b[0;34m)\u001b[0m\u001b[0;34m)\u001b[0m\u001b[0;34m\u001b[0m\u001b[0m\n\u001b[1;32m     24\u001b[0m     return map(lambda idx: get_next_state(idx[0], idx[1]),\n\u001b[0;32m---> 25\u001b[0;31m                    [ [(row_idx, x) for x in xrange( len( matrix[row_idx] ) ) ] for row_idx in xrange(len(matrix))])\n\u001b[0m",
      "\u001b[0;32m<ipython-input-244-cc6d20c837e1>\u001b[0m in \u001b[0;36m<lambda>\u001b[0;34m(idx)\u001b[0m\n\u001b[1;32m     22\u001b[0m     \u001b[0;32mprint\u001b[0m \u001b[0mget_neighboors\u001b[0m\u001b[0;34m(\u001b[0m\u001b[0;36m4\u001b[0m\u001b[0;34m,\u001b[0m\u001b[0;36m4\u001b[0m\u001b[0;34m)\u001b[0m\u001b[0;34m\u001b[0m\u001b[0m\n\u001b[1;32m     23\u001b[0m     \u001b[0mget_next_state\u001b[0m \u001b[0;34m=\u001b[0m \u001b[0;32mlambda\u001b[0m \u001b[0mrow\u001b[0m\u001b[0;34m,\u001b[0m \u001b[0mcol\u001b[0m\u001b[0;34m:\u001b[0m \u001b[0mis_alive\u001b[0m\u001b[0;34m(\u001b[0m\u001b[0mmatrix\u001b[0m\u001b[0;34m[\u001b[0m\u001b[0mrow\u001b[0m\u001b[0;34m]\u001b[0m\u001b[0;34m[\u001b[0m\u001b[0mcol\u001b[0m\u001b[0;34m]\u001b[0m\u001b[0;34m,\u001b[0m \u001b[0mget_neighboors\u001b[0m\u001b[0;34m(\u001b[0m\u001b[0mrow\u001b[0m\u001b[0;34m,\u001b[0m \u001b[0mcol\u001b[0m\u001b[0;34m)\u001b[0m\u001b[0;34m)\u001b[0m\u001b[0;34m\u001b[0m\u001b[0m\n\u001b[0;32m---> 24\u001b[0;31m     return map(lambda idx: get_next_state(idx[0], idx[1]),\n\u001b[0m\u001b[1;32m     25\u001b[0m                    [ [(row_idx, x) for x in xrange( len( matrix[row_idx] ) ) ] for row_idx in xrange(len(matrix))])\n",
      "\u001b[0;32m<ipython-input-244-cc6d20c837e1>\u001b[0m in \u001b[0;36m<lambda>\u001b[0;34m(row, col)\u001b[0m\n\u001b[1;32m     21\u001b[0m     \u001b[0;32mprint\u001b[0m \u001b[0mget_neighboors\u001b[0m\u001b[0;34m(\u001b[0m\u001b[0;36m1\u001b[0m\u001b[0;34m,\u001b[0m\u001b[0;36m1\u001b[0m\u001b[0;34m)\u001b[0m\u001b[0;34m\u001b[0m\u001b[0m\n\u001b[1;32m     22\u001b[0m     \u001b[0;32mprint\u001b[0m \u001b[0mget_neighboors\u001b[0m\u001b[0;34m(\u001b[0m\u001b[0;36m4\u001b[0m\u001b[0;34m,\u001b[0m\u001b[0;36m4\u001b[0m\u001b[0;34m)\u001b[0m\u001b[0;34m\u001b[0m\u001b[0m\n\u001b[0;32m---> 23\u001b[0;31m     \u001b[0mget_next_state\u001b[0m \u001b[0;34m=\u001b[0m \u001b[0;32mlambda\u001b[0m \u001b[0mrow\u001b[0m\u001b[0;34m,\u001b[0m \u001b[0mcol\u001b[0m\u001b[0;34m:\u001b[0m \u001b[0mis_alive\u001b[0m\u001b[0;34m(\u001b[0m\u001b[0mmatrix\u001b[0m\u001b[0;34m[\u001b[0m\u001b[0mrow\u001b[0m\u001b[0;34m]\u001b[0m\u001b[0;34m[\u001b[0m\u001b[0mcol\u001b[0m\u001b[0;34m]\u001b[0m\u001b[0;34m,\u001b[0m \u001b[0mget_neighboors\u001b[0m\u001b[0;34m(\u001b[0m\u001b[0mrow\u001b[0m\u001b[0;34m,\u001b[0m \u001b[0mcol\u001b[0m\u001b[0;34m)\u001b[0m\u001b[0;34m)\u001b[0m\u001b[0;34m\u001b[0m\u001b[0m\n\u001b[0m\u001b[1;32m     24\u001b[0m     return map(lambda idx: get_next_state(idx[0], idx[1]),\n\u001b[1;32m     25\u001b[0m                    [ [(row_idx, x) for x in xrange( len( matrix[row_idx] ) ) ] for row_idx in xrange(len(matrix))])\n",
      "\u001b[0;31mTypeError\u001b[0m: list indices must be integers, not tuple"
     ]
    }
   ],
   "source": [
    "for x in xrange(10):\n",
    "    matrix = next_cycle(matrix)\n",
    "    print(\" ------------------- {}\".format(x))\n",
    "    print_matrix(matrix)"
   ]
  },
  {
   "cell_type": "code",
   "execution_count": null,
   "metadata": {
    "collapsed": true
   },
   "outputs": [],
   "source": []
  }
 ],
 "metadata": {
  "kernelspec": {
   "display_name": "Python 2",
   "language": "python",
   "name": "python2"
  },
  "language_info": {
   "codemirror_mode": {
    "name": "ipython",
    "version": 2
   },
   "file_extension": ".py",
   "mimetype": "text/x-python",
   "name": "python",
   "nbconvert_exporter": "python",
   "pygments_lexer": "ipython2",
   "version": "2.7.5"
  }
 },
 "nbformat": 4,
 "nbformat_minor": 0
}
