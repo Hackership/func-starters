{
 "cells": [
  {
   "cell_type": "markdown",
   "metadata": {},
   "source": [
    "# This is the deck of (example) solutions\n",
    "\n",
    "Your solutions don't have to look exactly like it, that's fine. Those are examples on how it can be done. If you are stuck and don't know why it is failing, take a look and maybe you can find out what's wrong with your solution."
   ]
  },
  {
   "cell_type": "markdown",
   "metadata": {},
   "source": [
    "## Solution – Intro"
   ]
  },
  {
   "cell_type": "markdown",
   "metadata": {},
   "source": [
    "### Solution 1: Groceries"
   ]
  },
  {
   "cell_type": "code",
   "execution_count": 1,
   "metadata": {
    "collapsed": false
   },
   "outputs": [
    {
     "data": {
      "text/plain": [
       "['bought',\n",
       " 'bought',\n",
       " 'bought',\n",
       " 'bought',\n",
       " 'bought',\n",
       " 'bought',\n",
       " 'bought',\n",
       " 'bought',\n",
       " 'bought']"
      ]
     },
     "execution_count": 1,
     "metadata": {},
     "output_type": "execute_result"
    }
   ],
   "source": [
    "def buy(item):\n",
    "    return 'bought'\n",
    "\n",
    "groceries = ['apple', 'pie', 'beef', 'jellybeans', 'bread', 'butter', 'cauliflower', 'banana', 'carrot']\n",
    "\n",
    "map(buy, groceries)"
   ]
  },
  {
   "cell_type": "markdown",
   "metadata": {},
   "source": [
    "### Solution 2: Sum of groceries"
   ]
  },
  {
   "cell_type": "code",
   "execution_count": 19,
   "metadata": {
    "collapsed": false
   },
   "outputs": [
    {
     "data": {
      "text/plain": [
       "56"
      ]
     },
     "execution_count": 19,
     "metadata": {},
     "output_type": "execute_result"
    }
   ],
   "source": [
    "groceries = ['apple', 'pie', 'beef', 'jellybeans', 'bread', 'butter', 'cauliflower', 'banana', 'carrot']\n",
    "\n",
    "# python without reduce len(''.join(groceries))\n",
    "reduce(lambda acc, x: acc + len(x), groceries, 0)"
   ]
  },
  {
   "cell_type": "markdown",
   "metadata": {},
   "source": [
    "### Solution 3: Filter my Groceries"
   ]
  },
  {
   "cell_type": "code",
   "execution_count": 20,
   "metadata": {
    "collapsed": false
   },
   "outputs": [
    {
     "data": {
      "text/plain": [
       "['apple', 'banana', 'cauliflower', 'carrot']"
      ]
     },
     "execution_count": 20,
     "metadata": {},
     "output_type": "execute_result"
    }
   ],
   "source": [
    "veggies = ['apple', 'pie', 'beef', 'jellybeans', 'bread', 'butter', 'cauliflower', 'banana', 'carrot']\n",
    "groceries = ['apple', 'orange', 'lemon', 'banana', 'cauliflower', 'carrot', 'potato']\n",
    "\n",
    "\n",
    "filter(lambda item: item in veggies, groceries)"
   ]
  },
  {
   "cell_type": "markdown",
   "metadata": {},
   "source": [
    "##Solutions - the Basics"
   ]
  },
  {
   "cell_type": "markdown",
   "metadata": {},
   "source": [
    "### Solution 1: Percenter"
   ]
  },
  {
   "cell_type": "code",
   "execution_count": 8,
   "metadata": {
    "collapsed": true
   },
   "outputs": [],
   "source": [
    "def percenter(values):\n",
    "    return map(lambda x: int(round(x * 100.0)),\n",
    "              filter(lambda x: x >= 0 and x <= 1, values))"
   ]
  },
  {
   "cell_type": "code",
   "execution_count": 9,
   "metadata": {
    "collapsed": false
   },
   "outputs": [
    {
     "data": {
      "text/plain": [
       "[0, 100, 90]"
      ]
     },
     "execution_count": 9,
     "metadata": {},
     "output_type": "execute_result"
    }
   ],
   "source": [
    "percenter([0, 1, 0.8999, -9])"
   ]
  },
  {
   "cell_type": "markdown",
   "metadata": {},
   "source": [
    "### Solution 2: Happy_Sum"
   ]
  },
  {
   "cell_type": "code",
   "execution_count": 10,
   "metadata": {
    "collapsed": true
   },
   "outputs": [],
   "source": [
    "def happy_sum(values):\n",
    "    return reduce(lambda x, acc: x + acc, map(lambda x: x < 0 and -x or x, values))"
   ]
  },
  {
   "cell_type": "code",
   "execution_count": 12,
   "metadata": {
    "collapsed": false
   },
   "outputs": [
    {
     "data": {
      "text/plain": [
       "27"
      ]
     },
     "execution_count": 12,
     "metadata": {},
     "output_type": "execute_result"
    }
   ],
   "source": [
    "happy_sum([0, 8, -9, 10])"
   ]
  },
  {
   "cell_type": "markdown",
   "metadata": {},
   "source": [
    "### Solution 3: Squared Devisors"
   ]
  },
  {
   "cell_type": "code",
   "execution_count": 42,
   "metadata": {
    "collapsed": false
   },
   "outputs": [],
   "source": [
    "def calc_divisors(current, total):\n",
    "    if current == total: return []\n",
    "    current += 1\n",
    "    if (total % current) == 0:\n",
    "        return [current] + calc_divisors(current, total)\n",
    "    return calc_divisors(current, total)\n",
    "    \n",
    "def squared_devisors(num):\n",
    "        return filter(lambda x: x < num, map(lambda x: x * x, calc_divisors(0, num)))"
   ]
  },
  {
   "cell_type": "code",
   "execution_count": 48,
   "metadata": {
    "collapsed": false
   },
   "outputs": [
    {
     "data": {
      "text/plain": [
       "[1, 4, 9, 25, 36, 81]"
      ]
     },
     "execution_count": 48,
     "metadata": {},
     "output_type": "execute_result"
    }
   ],
   "source": [
    "squared_devisors(90)"
   ]
  },
  {
   "cell_type": "markdown",
   "metadata": {},
   "source": [
    "### Solution 4: word-wrapper"
   ]
  },
  {
   "cell_type": "code",
   "execution_count": 76,
   "metadata": {
    "collapsed": false
   },
   "outputs": [],
   "source": [
    "def _get_max(words, cur_count, maxlen):\n",
    "\n",
    "    if not words:\n",
    "        # we've reached the end of the input\n",
    "        return []\n",
    "    \n",
    "    head, tail = words[0], words[1:]\n",
    "    new_total = cur_count + len(head)\n",
    "    if  new_total > maxlen:\n",
    "        # adding this one, would make the list too long, return\n",
    "\n",
    "        return []\n",
    "    \n",
    "    # keep adding\n",
    "    return [head] + _get_max(tail, new_total, maxlen)\n",
    "\n",
    "def word_wrapper(paragraph, total):\n",
    "    return \" \".join(_get_max(paragraph.split(), 0, total))"
   ]
  },
  {
   "cell_type": "code",
   "execution_count": 81,
   "metadata": {
    "collapsed": false,
    "scrolled": true
   },
   "outputs": [
    {
     "data": {
      "text/plain": [
       "'Below are listed the string methods which both'"
      ]
     },
     "execution_count": 81,
     "metadata": {},
     "output_type": "execute_result"
    }
   ],
   "source": [
    "word_wrapper(\"Below are listed the string methods which both 8-bit strings and Unicode\", 40)"
   ]
  },
  {
   "cell_type": "markdown",
   "metadata": {},
   "source": [
    "### Solution 4.1 bonus challenge"
   ]
  },
  {
   "cell_type": "code",
   "execution_count": 82,
   "metadata": {
    "collapsed": false
   },
   "outputs": [
    {
     "data": {
      "text/plain": [
       "'This Man Went To Mars And'"
      ]
     },
     "execution_count": 82,
     "metadata": {},
     "output_type": "execute_result"
    }
   ],
   "source": [
    "def make_headline(headline):\n",
    "    return \" \".join(map(lambda x: x.capitalize(), _get_max(headline.split(), 0, 20)))\n",
    "\n",
    "make_headline(\"This man went to mars and you won't believe what happened next\")"
   ]
  },
  {
   "cell_type": "code",
   "execution_count": null,
   "metadata": {
    "collapsed": true
   },
   "outputs": [],
   "source": []
  },
  {
   "cell_type": "code",
   "execution_count": null,
   "metadata": {
    "collapsed": true
   },
   "outputs": [],
   "source": []
  }
 ],
 "metadata": {
  "kernelspec": {
   "display_name": "Python 2",
   "language": "python",
   "name": "python2"
  },
  "language_info": {
   "codemirror_mode": {
    "name": "ipython",
    "version": 2
   },
   "file_extension": ".py",
   "mimetype": "text/x-python",
   "name": "python",
   "nbconvert_exporter": "python",
   "pygments_lexer": "ipython2",
   "version": "2.7.5"
  }
 },
 "nbformat": 4,
 "nbformat_minor": 0
}
