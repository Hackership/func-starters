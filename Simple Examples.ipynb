{
 "cells": [
  {
   "cell_type": "markdown",
   "metadata": {},
   "source": [
    "# Composition\n",
    "One really great thing about these functions is that they can be easily composed to create more complex algorithms. Take a look at this example. In here, we want to square every value of a list, but only the ones that are positive (bigger than 0). In order to be able to do that we can pass the result of our filter into map."
   ]
  },
  {
   "cell_type": "code",
   "execution_count": 17,
   "metadata": {
    "collapsed": false
   },
   "outputs": [],
   "source": [
    "# or as a named function version:\n",
    "def positive_pow(values):\n",
    "    return map(lambda x: x * x , filter(lambda x: x > 0, values))"
   ]
  },
  {
   "cell_type": "code",
   "execution_count": 16,
   "metadata": {
    "collapsed": false
   },
   "outputs": [
    {
     "data": {
      "text/plain": [
       "[81, 1, 100, 64]"
      ]
     },
     "execution_count": 16,
     "metadata": {},
     "output_type": "execute_result"
    }
   ],
   "source": [
    "positive_pow([0, 9, -8, 1, 10, 8])"
   ]
  },
  {
   "cell_type": "markdown",
   "metadata": {},
   "source": [
    "We can compose essentially everything this way, as long as the output of one function is a possible input for the other. Let's wrap positive_pow over a reduce function, which gives us the sum of all of them:"
   ]
  },
  {
   "cell_type": "code",
   "execution_count": 12,
   "metadata": {
    "collapsed": false
   },
   "outputs": [],
   "source": [
    "def positive_pow_sum(values):\n",
    "    return reduce(lambda x, acc: x + acc, positive_pow(values))"
   ]
  },
  {
   "cell_type": "code",
   "execution_count": 13,
   "metadata": {
    "collapsed": false
   },
   "outputs": [
    {
     "data": {
      "text/plain": [
       "506"
      ]
     },
     "execution_count": 13,
     "metadata": {},
     "output_type": "execute_result"
    }
   ],
   "source": [
    "positive_pow_sum([-9, 0, 8, 9, 19])"
   ]
  },
  {
   "cell_type": "markdown",
   "metadata": {},
   "source": [
    "**Neat!**. Totally nicely composed. We could technically also put the map+filter directly inside the reduce but as we had written it before, this just feels a little nicer. Let's play with those compositions a litte."
   ]
  },
  {
   "cell_type": "markdown",
   "metadata": {},
   "source": [
    "## Excercise 1: percenter\n",
    "Write a function `percenter`, which given a list of floats, finds those between 0 and 1 (inclusive) and transforms those into their percentage equivialent – a number between 0 and 100 (inclusive).\n",
    "\n",
    "**Bonus Challenge** Can you make it round nicely? As in, if you pass in `0.8999` it will return a `90`?"
   ]
  },
  {
   "cell_type": "markdown",
   "metadata": {},
   "source": [
    "## Excercise 2: happy sum\n",
    "Write a function `happy_sum`, which given a list of floats, returns the sum of the positives of their values. Example:\n",
    "```python\n",
    "happy_sum([0, 8, -9, 10]) == 27\n",
    "```\n"
   ]
  },
  {
   "cell_type": "markdown",
   "metadata": {},
   "source": [
    "## Excercise 3: Squared Divisors\n",
    "We don't necessarily have to start out with list. We can also compose that list ourselves. Write a funciton `squared_divisors`, which given a number recursively finds all values that number is divisable by and then returns a list of each divisor squared, as long as they are smaller than the input value.\n",
    "\n",
    "_Note_: Recursion is expensive in Python, as it creates stacks (and doesn't optimise for tail-recursion). Don't try it with very big numbers ;) – anything less than 1000 should be fine though.\n",
    "\n",
    "**Hint**: You need to compose two other transformations on the result of your recursion.\n"
   ]
  },
  {
   "cell_type": "markdown",
   "metadata": {},
   "source": [
    "# Excercise 4: Word Wrapper\n",
    "Of course the values in our list don't have to be numbers. Let's take a look at a very common problem: pretty excerpt texts. To display the intro of a blog post on the overview page, you only have a certain amount of characters of space. But you don't want to hard-break at that count, as you might be in the middle of a word. Instead you want to have a smart `word_wrapper` function, which given a string of words and the maximum total of characters you have space for, it will return a string that nicely breaks at the latest word before it.\n",
    "\n",
    "**Hint**: There is a beautiful recursive solution to this. To break a string into a list of strings of words use `string.slit()` and to combine a list of words back into a nice string with spaces in between use `' '.join(list_of_words)`\n",
    "\n",
    "**Bonus Challenge**: Restructure the code to be able to add another method `make_headline`, which re-uses the same recursive function to enforce its 20 character rule, but title-cases the words before concattenating them back into a nice string. _Hint_: python has some great [String-Transformation methods](https://docs.python.org/2/library/stdtypes.html#string-methods) to help you with it."
   ]
  },
  {
   "cell_type": "code",
   "execution_count": null,
   "metadata": {
    "collapsed": true
   },
   "outputs": [],
   "source": []
  }
 ],
 "metadata": {
  "kernelspec": {
   "display_name": "Python 2",
   "language": "python",
   "name": "python2"
  },
  "language_info": {
   "codemirror_mode": {
    "name": "ipython",
    "version": 2
   },
   "file_extension": ".py",
   "mimetype": "text/x-python",
   "name": "python",
   "nbconvert_exporter": "python",
   "pygments_lexer": "ipython2",
   "version": "2.7.5"
  }
 },
 "nbformat": 4,
 "nbformat_minor": 0
}
