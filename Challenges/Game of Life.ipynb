{
 "cells": [
  {
   "cell_type": "markdown",
   "metadata": {},
   "source": [
    "# Conway's Game of Life\n",
    "\n",
    "A classic computation example for a cool cellular emulation model – which has been studied over and over again – is [conway's game of life](https://en.wikipedia.org/wiki/Conway%27s_Game_of_Life). In its essence it is based on a matrix of cells, which live through life cycle and which every cycle they life or die depending on a very small set of rules:\n",
    "\n",
    " - Any live cell with fewer than two live neighbours dies, as if caused by under-population.\n",
    " - Any live cell with two or three live neighbours lives on to the next generation.\n",
    " - Any live cell with more than three live neighbours dies, as if by overcrowding.\n",
    " - Any dead cell with exactly three live neighbours becomes a live cell, as if by reproduction.\n",
    "\n",
    "Although these are rather simple, it allows for quite a few awesome thingies which happen:\n",
    "\n",
    "![](https://upload.wikimedia.org/wikipedia/commons/e/e5/Gospers_glider_gun.gif)\n",
    "\n",
    "### Excercise\n",
    "Write a function, which given a matrix (represented as a list of rows, where each row is a list of cell states, represented as true or fales), runs the next cycle on each cell and returns a new matrix in the same format of the state after the cycle.\n",
    "\n",
    "To help you out, here is a small function, which generates an random test-matrix for you:\n"
   ]
  },
  {
   "cell_type": "code",
   "execution_count": 6,
   "metadata": {
    "collapsed": true
   },
   "outputs": [],
   "source": [
    "import random\n",
    "def generate_random_matrix(rows=10, cols=25, prob=0.3):\n",
    "    return [[random.random() <= prob for c in xrange(cols)] for r in xrange(rows)]\n",
    "        "
   ]
  },
  {
   "cell_type": "markdown",
   "metadata": {},
   "source": [
    "And a handy function to print a matrix nicely:"
   ]
  },
  {
   "cell_type": "code",
   "execution_count": 5,
   "metadata": {
    "collapsed": true
   },
   "outputs": [],
   "source": [
    "def print_matrix(matrix):\n",
    "    for row in matrix:\n",
    "        print(\"\".join([cell and '#' or '·' for cell in row]))\n"
   ]
  },
  {
   "cell_type": "markdown",
   "metadata": {},
   "source": [
    "Here is how you can use them:"
   ]
  },
  {
   "cell_type": "code",
   "execution_count": 11,
   "metadata": {
    "collapsed": false
   },
   "outputs": [
    {
     "name": "stdout",
     "output_type": "stream",
     "text": [
      "··#······##········#··#··\n",
      "·##··#···#····#·#··#···#·\n",
      "·······#·#·#·####·······#\n",
      "··#·#·#··#······#·#··#·#·\n",
      "##···###······#·····##·#·\n",
      "···#···##·#······#·###··#\n",
      "·###···##·##····#···###·#\n",
      "#·##·#·#··##·#···#···#·#·\n",
      "··##··###··####··##·····#\n",
      "····#····##··#····#·#·#··\n"
     ]
    }
   ],
   "source": [
    "matrix = generate_random_matrix()\n",
    "print_matrix(matrix)"
   ]
  },
  {
   "cell_type": "markdown",
   "metadata": {},
   "source": [
    "# GO NUTS\n",
    "\n",
    "\n",
    "\n",
    "\n",
    "\n",
    "### Extra Excercise:\n",
    "Write a wrapper function, which returns an iterator, that when called, returns "
   ]
  },
  {
   "cell_type": "code",
   "execution_count": null,
   "metadata": {
    "collapsed": true
   },
   "outputs": [],
   "source": []
  }
 ],
 "metadata": {
  "kernelspec": {
   "display_name": "Python 2",
   "language": "python",
   "name": "python2"
  },
  "language_info": {
   "codemirror_mode": {
    "name": "ipython",
    "version": 2
   },
   "file_extension": ".py",
   "mimetype": "text/x-python",
   "name": "python",
   "nbconvert_exporter": "python",
   "pygments_lexer": "ipython2",
   "version": "2.7.5"
  }
 },
 "nbformat": 4,
 "nbformat_minor": 0
}
