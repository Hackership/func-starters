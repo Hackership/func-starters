{
 "cells": [
  {
   "cell_type": "markdown",
   "metadata": {},
   "source": [
    "### UFO Data\n",
    "We have a file `ufo_data.tsv` of about 76Mb here. This is a big chunk of data to go through. Ideally we want to process items one at a time. The following block returns us a `generator` which we can iterate over and does exactly that."
   ]
  },
  {
   "cell_type": "code",
   "execution_count": 91,
   "metadata": {
    "collapsed": false
   },
   "outputs": [],
   "source": [
    "import csv\n",
    "def read_ufo_data():\n",
    "    with open(\"ufo_data.tsv\", 'r') as f:\n",
    "        for row in csv.reader(f, delimiter=\"\\t\"):\n",
    "            yield row\n",
    "        "
   ]
  },
  {
   "cell_type": "code",
   "execution_count": 92,
   "metadata": {
    "collapsed": false
   },
   "outputs": [],
   "source": [
    "r = read_ufo_data()"
   ]
  },
  {
   "cell_type": "code",
   "execution_count": 93,
   "metadata": {
    "collapsed": false
   },
   "outputs": [
    {
     "data": {
      "text/plain": [
       "<generator object read_ufo_data at 0x10ae54550>"
      ]
     },
     "execution_count": 93,
     "metadata": {},
     "output_type": "execute_result"
    }
   ],
   "source": [
    "r"
   ]
  },
  {
   "cell_type": "markdown",
   "metadata": {},
   "source": [
    "Until now, we have only opened the file, we haven't even read the first line yet. This will only happen once we access the generator (by calling `next()` on it or iterating over it). These generator or iterator objects allow us to construct half-executed functions. That is called **lazy evulation** as they are only executed when it is needed. "
   ]
  },
  {
   "cell_type": "code",
   "execution_count": 94,
   "metadata": {
    "collapsed": false
   },
   "outputs": [],
   "source": [
    "a = r.next()"
   ]
  },
  {
   "cell_type": "code",
   "execution_count": 95,
   "metadata": {
    "collapsed": false
   },
   "outputs": [
    {
     "data": {
      "text/plain": [
       "['19951009',\n",
       " '19951009',\n",
       " ' Iowa City, IA',\n",
       " '',\n",
       " '',\n",
       " 'Man repts. witnessing &quot;flash, followed by a classic UFO, w/ a tailfin at back.&quot; Red color on top half of tailfin. Became triangular.']"
      ]
     },
     "execution_count": 95,
     "metadata": {},
     "output_type": "execute_result"
    }
   ],
   "source": [
    "a"
   ]
  },
  {
   "cell_type": "markdown",
   "metadata": {},
   "source": [
    "Now we have the first record of the file saved in the variable a. We have started **lazy evaluating** the code. To retrieve this record we did not have to load the entire content into memory and as soon as we release `a`, we will free this memory again. This can be very useful in various cases, like here when we are just interested to _find the first sighting in Australia_. **Excercise**: Can you write a short piece of code that finds that?\n",
    "\n",
    "Remember: the place is listed at index `2` and a `\"Australia\" in` is totally sufficient here ;) .\n"
   ]
  },
  {
   "cell_type": "code",
   "execution_count": 101,
   "metadata": {
    "collapsed": false
   },
   "outputs": [
    {
     "data": {
      "text/plain": [
       "['19970206',\n",
       " '19970212',\n",
       " ' Coober Pedy, S.A. (Approx. 250km south of) (Australia),',\n",
       " ' light',\n",
       " '',\n",
       " 'SUMMARY:  A stormy night on the Stuart Highway. Sighting of a UFO which appeared to land,  a UFO chasing the car some 50m behind, and the sighting of a man which was extremely unusual looking.The first event to happen was the sighting of a &apos;roadwork&apos; man sweeping the highway.  Whilst driving along the highway, an extremely bright light suddenly appeared in front of us. At first we thought it was a truck coming towards us - common on the highway-but as we drove towards it we realised it was a stationary truck with a bright light attatched to the front of the grill. Upon getting closer to the light, it was that bright and blinding that we had to slow down to 10kms just to see the road and where we were going. Half the road was closed and suddenly we were able to see a man. There he was sweeping the road at 21:30(approx) 200kms from the nearest roadhouse. We slowly drove up to him to explain that we could not see the road due to the light and essentialy could not see him. We now believe that not being able to see him was what he wanted. The man hardly showed his face and what we did see - he had an extremely high forehead and very wide set eyes. He was approx. 7 fee!t tall and of stocky build. He did not want us talking to him and made every attempt to get us to move on quickly. As we drove off the light slowly disappeared - which is what got us thinking. Due to the cloud cover that night, a light of that intensity would have cast quite a bit of glare i.e. we would have seen the light from quite a distance, however the light suddenly flashed on and we were not descending or ascending a hill! My questions at the time were who was he, what was he doing that far out of town at that time of night and what was he sweeping off the road?Eventually that passed as we drove along the highway again.Approximately 30mins after this happened an extremely bright light came up from behind us - we had not passed a car since the roadwork man - to within 50m of us. It followed  our car for about 4 seconds before disappearing. The lights intensity was similar to that of a cars high-beam headlights and was orange-yellow in colour. Neither of us said anything - we were starting to get spooked.As we were driving up the road we were heading into a storm. As we got closer to the storm I was checking the stars to see where the storm cloud started - it was that black that there was a definite black line where the storm cloud startes. As I was watching the stars I noticed an extremely orange star. As I continued watching it moved forward so it kept up with the car, not falling behind like the other stars were. From where we were this &apos;star&apos; was about 5-6mm across. As I continued watching the light moved on a diagonal path towards the horizon and was now in front of the car. This light continued downwards until it reached a point slightly above the horizon, if not on the horizon, and that is where it stayed until the blackness of the strom blocked my view.Among these happenings we passed a military style vehicle with no insignia which was cruising up the highway rather slowly. We could not see the driver as we passed the vehicle.The storm that we drove through was extremely active for about 2 hours until we actually reached it. (there had been continuous lightning for these two hours). Yet as soon as the light was blocked out by the clouds all lightning stopped. As far as we know a storm does not just stop suddenly.As we neared Coober Pedy, a white 4WD suddenly pulled out from the side of the road and forced our car to slow down considerably. In the back window of this car two shapes could be seen moving and I can tell you with all honesty that they did not look like dogs or humans or any other animal but I did not get a very good look at them so I cannot accurately say or judge what they were.We eventually made it to Coober Pedy and were relieved to see other humans.The whole event really spooked both me and my fiance and we have vowed never to travel on the highway agein at night. (the highway runs directly from Adelaide to Alice Springs and continues to Darwin, passing through townships and roadhouses.It passes through some of the most lonely land in Australia).As we checked out of our motel the next morning we metioned these events to the receptionist who just smiled and said oh well you wouldn&apos;t be the first to talk about things like that. That was all we could get out of her,she wouldn&apos;t talk anymore.For my fiance, it is the second time that he has witnessed events of a &apos;supernatural&apos; kind - he is in his late twenties. I have witnessed other happenings including metallic cigar shaped objects and other orange lights resembling stars but moving otherwise to indicate that they were not a star. I am 18.I am not providing my address as yet for security reasons - as well as I only connected to the net yesterday and haven&apos;t bothered yet to set up an e-mail address on my computer. I will watch this site for further information.I have provided this report because I know how hard it is to gain information on these matters. As well as in the interests of &apos;science&apos;.I hope you make some use of this report.']"
      ]
     },
     "execution_count": 101,
     "metadata": {},
     "output_type": "execute_result"
    }
   ],
   "source": [
    "filter(lambda x: \"Australia\" in x[2], read_ufo_data())[0]"
   ]
  },
  {
   "cell_type": "markdown",
   "metadata": {},
   "source": [
    "## An iterative way\n",
    "Although our iterator was doing lazy loading, `filter` generate an entire list, even though we only need the first sample. Obviously that is insufficient and we can do better in a more memory efficient manner. Introducing `itertools`. The [itertools](https://docs.python.org/2/library/itertools.html) library is preshipped with all (c)Python versions and contains iterative implementations of `map`, `filter` and such – appropriatly named `imap` and  `ifilter`. Lets use that one:"
   ]
  },
  {
   "cell_type": "code",
   "execution_count": 102,
   "metadata": {
    "collapsed": false
   },
   "outputs": [
    {
     "data": {
      "text/plain": [
       "<itertools.ifilter at 0x10ae78310>"
      ]
     },
     "execution_count": 102,
     "metadata": {},
     "output_type": "execute_result"
    }
   ],
   "source": [
    "ifilter(lambda x: \"Australia\" in x[2], read_ufo_data())"
   ]
  },
  {
   "cell_type": "markdown",
   "metadata": {},
   "source": [
    "Not only did that evaluate much quicker, as you can see, this creates another `iterator`, which means we are doing a lazy evaluation again. Let's use that to our advantage. To get the next (or in this case _first_) item, we can just call the `next()` function on it. Let's do that:"
   ]
  },
  {
   "cell_type": "code",
   "execution_count": 103,
   "metadata": {
    "collapsed": false
   },
   "outputs": [
    {
     "data": {
      "text/plain": [
       "['19970206',\n",
       " '19970212',\n",
       " ' Coober Pedy, S.A. (Approx. 250km south of) (Australia),',\n",
       " ' light',\n",
       " '',\n",
       " 'SUMMARY:  A stormy night on the Stuart Highway. Sighting of a UFO which appeared to land,  a UFO chasing the car some 50m behind, and the sighting of a man which was extremely unusual looking.The first event to happen was the sighting of a &apos;roadwork&apos; man sweeping the highway.  Whilst driving along the highway, an extremely bright light suddenly appeared in front of us. At first we thought it was a truck coming towards us - common on the highway-but as we drove towards it we realised it was a stationary truck with a bright light attatched to the front of the grill. Upon getting closer to the light, it was that bright and blinding that we had to slow down to 10kms just to see the road and where we were going. Half the road was closed and suddenly we were able to see a man. There he was sweeping the road at 21:30(approx) 200kms from the nearest roadhouse. We slowly drove up to him to explain that we could not see the road due to the light and essentialy could not see him. We now believe that not being able to see him was what he wanted. The man hardly showed his face and what we did see - he had an extremely high forehead and very wide set eyes. He was approx. 7 fee!t tall and of stocky build. He did not want us talking to him and made every attempt to get us to move on quickly. As we drove off the light slowly disappeared - which is what got us thinking. Due to the cloud cover that night, a light of that intensity would have cast quite a bit of glare i.e. we would have seen the light from quite a distance, however the light suddenly flashed on and we were not descending or ascending a hill! My questions at the time were who was he, what was he doing that far out of town at that time of night and what was he sweeping off the road?Eventually that passed as we drove along the highway again.Approximately 30mins after this happened an extremely bright light came up from behind us - we had not passed a car since the roadwork man - to within 50m of us. It followed  our car for about 4 seconds before disappearing. The lights intensity was similar to that of a cars high-beam headlights and was orange-yellow in colour. Neither of us said anything - we were starting to get spooked.As we were driving up the road we were heading into a storm. As we got closer to the storm I was checking the stars to see where the storm cloud started - it was that black that there was a definite black line where the storm cloud startes. As I was watching the stars I noticed an extremely orange star. As I continued watching it moved forward so it kept up with the car, not falling behind like the other stars were. From where we were this &apos;star&apos; was about 5-6mm across. As I continued watching the light moved on a diagonal path towards the horizon and was now in front of the car. This light continued downwards until it reached a point slightly above the horizon, if not on the horizon, and that is where it stayed until the blackness of the strom blocked my view.Among these happenings we passed a military style vehicle with no insignia which was cruising up the highway rather slowly. We could not see the driver as we passed the vehicle.The storm that we drove through was extremely active for about 2 hours until we actually reached it. (there had been continuous lightning for these two hours). Yet as soon as the light was blocked out by the clouds all lightning stopped. As far as we know a storm does not just stop suddenly.As we neared Coober Pedy, a white 4WD suddenly pulled out from the side of the road and forced our car to slow down considerably. In the back window of this car two shapes could be seen moving and I can tell you with all honesty that they did not look like dogs or humans or any other animal but I did not get a very good look at them so I cannot accurately say or judge what they were.We eventually made it to Coober Pedy and were relieved to see other humans.The whole event really spooked both me and my fiance and we have vowed never to travel on the highway agein at night. (the highway runs directly from Adelaide to Alice Springs and continues to Darwin, passing through townships and roadhouses.It passes through some of the most lonely land in Australia).As we checked out of our motel the next morning we metioned these events to the receptionist who just smiled and said oh well you wouldn&apos;t be the first to talk about things like that. That was all we could get out of her,she wouldn&apos;t talk anymore.For my fiance, it is the second time that he has witnessed events of a &apos;supernatural&apos; kind - he is in his late twenties. I have witnessed other happenings including metallic cigar shaped objects and other orange lights resembling stars but moving otherwise to indicate that they were not a star. I am 18.I am not providing my address as yet for security reasons - as well as I only connected to the net yesterday and haven&apos;t bothered yet to set up an e-mail address on my computer. I will watch this site for further information.I have provided this report because I know how hard it is to gain information on these matters. As well as in the interests of &apos;science&apos;.I hope you make some use of this report.']"
      ]
     },
     "execution_count": 103,
     "metadata": {},
     "output_type": "execute_result"
    }
   ],
   "source": [
    "ifilter(lambda x: \"Australia\" in x[2], read_ufo_data()).next()"
   ]
  },
  {
   "cell_type": "markdown",
   "metadata": {},
   "source": [
    "Well, that was much faster!\n",
    "\n",
    "That is because we have only been reading the file – line by line – to the point that it was necessary. Even better with every line we checked, the reference was discarded and the memory cleared. This kept the footprint of memory very low throughout the entire execution. While also being much faster!\n",
    "\n",
    "## Excercise\n",
    "\n",
    "To do, one after another:\n",
    "\n",
    "1. Can you write a low-memory solution, which returns the count of sightings per country (and for the US for each state)?\n",
    "\n",
    "2. Can you make it stop when a certain total threshold has been met (given as a second parameter)?\n",
    "\n",
    "3. Can you make it stop as soon as a c"
   ]
  },
  {
   "cell_type": "code",
   "execution_count": null,
   "metadata": {
    "collapsed": true
   },
   "outputs": [],
   "source": []
  }
 ],
 "metadata": {
  "kernelspec": {
   "display_name": "Python 2",
   "language": "python",
   "name": "python2"
  },
  "language_info": {
   "codemirror_mode": {
    "name": "ipython",
    "version": 2
   },
   "file_extension": ".py",
   "mimetype": "text/x-python",
   "name": "python",
   "nbconvert_exporter": "python",
   "pygments_lexer": "ipython2",
   "version": "2.7.5"
  }
 },
 "nbformat": 4,
 "nbformat_minor": 0
}
