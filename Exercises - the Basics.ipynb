{
 "cells": [
  {
   "cell_type": "markdown",
   "metadata": {},
   "source": [
    "**NOTE:** each exercise uses a composition of two or more functions. Two give you a hint, we included the needed functions in the exercise title!"
   ]
  },
  {
   "cell_type": "markdown",
   "metadata": {},
   "source": [
    "## Excercise 1: Percenter  - map, filter\n",
    "Write a function `percenter`, which given a list of floats, finds those between 0 and 1 (inclusive) and transform them into their percentage equivialent – a number between 0 and 100 (inclusive). \n",
    "\n",
    "Example: \n",
    "```python\n",
    "percenter([0.2, 0.8, 0.4, 1.4]) = [20, 80, 40]\n",
    "```\n",
    "\n",
    "**Bonus Challenge** Can you make it round nicely? As in, if you pass in `0.8999` it will return a `90`?\n",
    "\n",
    "---"
   ]
  },
  {
   "cell_type": "markdown",
   "metadata": {},
   "source": [
    "## Excercise 2: Happy sum - map, reduce\n",
    "Write a function `happy_sum`, which given a list of floats, returns the sum of the positives of their values. \n",
    "\n",
    "Example:\n",
    "```python\n",
    "happy_sum([0, 8, -9, 10]) == 27\n",
    "```\n"
   ]
  },
  {
   "cell_type": "markdown",
   "metadata": {},
   "source": [
    "---"
   ]
  },
  {
   "cell_type": "markdown",
   "metadata": {},
   "source": [
    "## Excercise 3: Squared Divisors - recursion, map, filter\n",
    "We don't necessarily have to start out with list. We can also compose that list ourselves. Write a function `squared_divisors`, which, given a single number, recursively finds all values that number can be divided by. Then use this list of numbers to generate a new list, with the square of each number. Finally, filter this to make sure that all numbers in the new list are smaller than the original input value (the single number).\n",
    "\n",
    "Example:\n",
    "```\n",
    "squared_divisors(12) = [1,4,9]\n",
    "```\n",
    "\n",
    "_Note_: Recursion is expensive in Python, as it creates stacks (and doesn't optimise for tail-recursion). Don't try it with very big numbers ;) – anything less than 1000 should be fine though.\n",
    "\n",
    "**Hint**: You need to compose two other transformations on the result of your recursion.\n",
    "\n",
    "---"
   ]
  },
  {
   "cell_type": "markdown",
   "metadata": {},
   "source": [
    "## Excercise 4: Word Wrapper - recursion, bonus: map\n",
    "Of course the values in our list don't have to be numbers. Let's take a look at a very common problem: pretty excerpt texts. To display the intro of a blog post on the overview page, you only have a certain amount of characters of space. But you don't want to hard-break at that count, as you might be in the middle of a word. Instead you want to have a smart `word_wrapper` function, which given a string of words and the maximum total of characters you have space for, it will return a string that nicely breaks at the latest word before it. Here is an imperative version of it:"
   ]
  },
  {
   "cell_type": "code",
   "execution_count": 8,
   "metadata": {
    "collapsed": false
   },
   "outputs": [
    {
     "data": {
      "text/plain": [
       "'The cow says'"
      ]
     },
     "execution_count": 8,
     "metadata": {},
     "output_type": "execute_result"
    }
   ],
   "source": [
    "def word_wrapper(paragraph, limit):\n",
    "    new_paragraph = []\n",
    "    cur_len = 0\n",
    "    for word in paragraph.split():\n",
    "        cur_len += len(word)\n",
    "        if cur_len > limit:\n",
    "            break\n",
    "        new_paragraph.append(word)\n",
    "    return \" \".join(new_paragraph)\n",
    "\n",
    "word_wrapper(\"The cow says wow and whooo\", 10)"
   ]
  },
  {
   "cell_type": "markdown",
   "metadata": {},
   "source": [
    "**Excercise**: Rewrite a the loop into a recursive function. You can still use `.split()` and `\" \".join` to deal with the text.\n",
    "\n",
    "**Bonus Challenge**: Restructure the code to be able to add another method `make_headline`, which re-uses the same recursive function to enforce its 20 character rule, but title-cases the words before concattenating them back into a nice string. _Hint_: python has some great [String-Transformation methods](https://docs.python.org/2/library/stdtypes.html#string-methods) to help you with it.\n",
    "\n",
    "---"
   ]
  },
  {
   "cell_type": "markdown",
   "metadata": {
    "collapsed": true
   },
   "source": [
    "## Excercise 5: ATM Algorithm - recursion, dict, zip\n",
    "\n",
    "Another great example for a function with dedicated input that should always return the same output is the _ATM Bills Calculation Algorithm_. In its essence, for a given amount X, the function should return the bills the ATM should hand out to deliver that amount.\n",
    "\n",
    "A rather bad example in imperative code could look like this:\n",
    "```python\n",
    "def calculate_bills(amount):\n",
    "    bills = [100, 50, 20, 10, 5, 1]\n",
    "    results = {}\n",
    "    for b in bills:\n",
    "        results[b] = 0\n",
    "        while amount >= b:\n",
    "            results[b] += 1\n",
    "            amount -= b\n",
    "    return results\n",
    "```\n",
    "\n",
    "---\n",
    "\n",
    "```Python\n",
    "calculate_bills(100)\n",
    "{1: 0, 5: 0, 10: 0, 20: 0, 50: 0, 100: 1}\n",
    "```\n",
    "\n",
    "```Python\n",
    "calculate_bills(80)\n",
    "{1: 0, 5: 0, 10: 1, 20: 1, 50: 1, 100: 0}\n",
    "```\n",
    "\n",
    "```Python\n",
    "calculate_bills(92)\n",
    "{1: 2, 5: 0, 10: 0, 20: 2, 50: 1, 100: 0}\n",
    "```\n",
    "\n",
    "\n",
    "### Excercise 5.1:\n",
    "Rewrite the function to return the same result but using a functional approach. _Hint_: you probably want to use `map` or recursion. Also, the functions [zip](https://docs.python.org/2/library/functions.html#zip), [dict](https://docs.python.org/2/library/functions.html#func-dict) and [math.floor](https://docs.python.org/2/library/math.html#math.floor) might come in handy (the later needs to be imported using `import math`).\n",
    "\n",
    "### Excercise 5.2:\n",
    "Extend the algorithm to also return the half a doller and quarter coins (of the values `0.5, 0.25`)\n",
    "\n",
    "### Excercise 5.3:\n",
    "This becomes a little crowded. Change the algorithm to _only_ return those items, that have at least one bill to be handed out. Example:\n",
    "\n",
    "```python\n",
    "calculate_bills(92)\n",
    "{50: 1, 20: 2, 1: 2}\n",
    "```\n",
    "\n",
    "### Excercise 5.4:\n",
    "Given a second parameter representing the stacks the ATM has per slot (as shown beyond), the ATM algorithms should only return those bills, were enough bills are present in the slot:\n",
    "\n",
    "```python\n",
    "slots = {100: 3, 50: 4, 20: 1, 10: 15, 5: 20, 1: 30, 0.5: 20, 0.25: 10}\n",
    "```\n",
    "\n",
    "So in that case, we expect:\n",
    "```python\n",
    "calculate_bills(92.75, slots)\n",
    "{0.25: 1, 0.5: 1, 1: 2, 10: 2, 20: 1, 50: 1}\n",
    "```"
   ]
  },
  {
   "cell_type": "markdown",
   "metadata": {
    "collapsed": true
   },
   "source": [
    "##Exercise 6: Fibonacci, recursion.\n",
    "No workshop is complete without a good old Fibonacci. Write a function that takes first number, second number and a limit and generates a fibonacci series untill a limit is reached. \n",
    "\n",
    "Example: \n",
    "```python\n",
    "fib(1,2,10) = [1, 2, 3, 5, 8, 13, 21, 34, 55, 89]\n",
    "```\n",
    "\n",
    "Note: Recursion is expensive in Python, as it creates stacks (and doesn't optimise for tail-recursion). Keep your limits small, like 1000 numbers max."
   ]
  },
  {
   "cell_type": "code",
   "execution_count": 12,
   "metadata": {
    "collapsed": false
   },
   "outputs": [
    {
     "data": {
      "text/plain": [
       "[1, 2, 3, 5, 8, 13, 21, 34, 55, 89]"
      ]
     },
     "execution_count": 12,
     "metadata": {},
     "output_type": "execute_result"
    }
   ],
   "source": [
    "def fib(one, two, limit):\n",
    "    if limit == 0:\n",
    "        return []\n",
    "    \n",
    "    new = one + two\n",
    "    limit = limit - 1\n",
    "    return [one] + fib(two, new, limit)\n",
    "\n",
    "fib(1,2,10)"
   ]
  }
 ],
 "metadata": {
  "kernelspec": {
   "display_name": "Python 2",
   "language": "python",
   "name": "python2"
  },
  "language_info": {
   "codemirror_mode": {
    "name": "ipython",
    "version": 2
   },
   "file_extension": ".py",
   "mimetype": "text/x-python",
   "name": "python",
   "nbconvert_exporter": "python",
   "pygments_lexer": "ipython2",
   "version": "2.7.8"
  }
 },
 "nbformat": 4,
 "nbformat_minor": 0
}
