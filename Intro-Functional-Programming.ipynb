{
 "cells": [
  {
   "cell_type": "markdown",
   "metadata": {},
   "source": [
    "#What Functional Programming Is All About\n",
    "Functional programming is getting a lot of attention and with it comes a lot of confusion. \n",
    "What is functional programming all about? The answer is not recursion, or currying, or pattern matching. It's not about monads or functors. So, if those concepts sound alien to you, fear not. Those are just design patterns and language features that make it easier to program in a functional way. Similarly, functional languages tend to have certain characteristics that make them especially suitable for functional programming, like treating functions as first class citizen. \n",
    "\n",
    "But you do not have to learn Haskell to write functional code. What differentiates a functional code from a non-functional code is not the language it is written in, it's the fact that it's **stateless - there are no side-effects**."
   ]
  },
  {
   "cell_type": "markdown",
   "metadata": {},
   "source": [
    "##What is State?"
   ]
  },
  {
   "cell_type": "markdown",
   "metadata": {},
   "source": [
    "Glad you asked. "
   ]
  },
  {
   "cell_type": "markdown",
   "metadata": {},
   "source": [
    "Take a car. The car can be driving, or not driving. Those are states. Depending on whether the car is driving or not (that is, depending on it's state) you can decide what to do with the car. For instance, you probably would not paint it while it is driving. \n",
    "\n",
    "Example:"
   ]
  },
  {
   "cell_type": "code",
   "execution_count": 30,
   "metadata": {
    "collapsed": false
   },
   "outputs": [
    {
     "name": "stdout",
     "output_type": "stream",
     "text": [
      "None\n",
      "blue\n",
      "None\n",
      "blue\n"
     ]
    }
   ],
   "source": [
    "\n",
    "class Car():\n",
    "    def __init__(self):\n",
    "        self.state = \"off\"\n",
    "        self.color = \"black\"\n",
    "\n",
    "my_car = Car()\n",
    "\n",
    "def paint_car(color):\n",
    "    if not my_car.state == \"driving\":\n",
    "       my_car.color = color\n",
    "\n",
    "\n",
    "print(paint_car(\"blue\"))\n",
    "print(my_car.color)\n",
    "\n",
    "my_car.state = \"driving\"\n",
    "print(paint_car(\"green\"))\n",
    "print(my_car.color)\n",
    "\n",
    "        "
   ]
  },
  {
   "cell_type": "markdown",
   "metadata": {},
   "source": [
    "The function paint_car needs to first check whether the car is driving. It does so by going outside of the function. If it isn't driving it can paint the car red. That last part, painting the car red, is what we call a side-effect: the function changes something outside of the function.\n",
    "\n",
    "Let's see what a functional approach would look like:"
   ]
  },
  {
   "cell_type": "code",
   "execution_count": 33,
   "metadata": {
    "collapsed": false
   },
   "outputs": [
    {
     "name": "stdout",
     "output_type": "stream",
     "text": [
      "(0, 'off', 'blue')\n",
      "(0, 'off', 'black')\n"
     ]
    }
   ],
   "source": [
    "# cars are immutable structs (in this case tuple)\n",
    "# car = (id, state, color)\n",
    "\n",
    "def paint_car(car, new_color):\n",
    "    id, state, old_color = car\n",
    "    if state != \"driving\":\n",
    "        return (id, state, new_color)\n",
    "    return car\n",
    "\n",
    "car = (0, 'off', 'black')\n",
    "\n",
    "print (paint_car(car, 'blue'))\n",
    "print (car)\n",
    "\n",
    "    "
   ]
  },
  {
   "cell_type": "markdown",
   "metadata": {},
   "source": [
    "In this example we have an immutable struct (a tuple) that represents our car. If the car is not driving the paint function returns us a new car struct with the right color. \n",
    "\n",
    "**NOTE:** in the functional example, the function will ALWAYS return the same output for a given input. The result does not depend on some external state. In contrast, in our non-functional example, the output changes depending on the state of the car, a state that exists OUTSIDE of the function. "
   ]
  },
  {
   "cell_type": "markdown",
   "metadata": {},
   "source": [
    "---"
   ]
  },
  {
   "cell_type": "markdown",
   "metadata": {},
   "source": [
    "#Basics Of Functional Programming"
   ]
  },
  {
   "cell_type": "markdown",
   "metadata": {},
   "source": [
    "So now that we know what functional programming IS, we can have a look at some of the concepts and design patterns you can use to write functional code. As said, you don't need to learn Haskell to write functional code. All you need is a language that treats functions as first class citizens. \n",
    "\n",
    "***Wait. Hang on... who's a first class citizen? What does citizenship have to do with anything?***\n",
    "\n",
    "Functions are first class citizens if you can pass them as a arguments to another function and return them as results. Python allows you to do that, so that's what will be using. And yes, it's called first class citizenship (http://en.wikipedia.org/wiki/First-class_citizen). \n",
    "\n",
    "Before we start, we need to explain what inline functions are. Consider this the 'eating your veggies' part of the workshop!\n"
   ]
  },
  {
   "cell_type": "markdown",
   "metadata": {},
   "source": [
    "###Lambda's\n",
    "`lambda` is an operator in Python to define anonymous functions inline. A `lambda` is without side effects (it cannot affect anything outside of it) and can return only the result of a computation, which it does automatically. \n",
    "\n",
    "For example, this function:"
   ]
  },
  {
   "cell_type": "code",
   "execution_count": 62,
   "metadata": {
    "collapsed": false
   },
   "outputs": [
    {
     "name": "stdout",
     "output_type": "stream",
     "text": [
      "2\n"
     ]
    }
   ],
   "source": [
    "def add_one(x):\n",
    "    return x + 1\n",
    "\n",
    "print(add_one(1))"
   ]
  },
  {
   "cell_type": "markdown",
   "metadata": {},
   "source": [
    "Could also be written with a lambda:"
   ]
  },
  {
   "cell_type": "code",
   "execution_count": 65,
   "metadata": {
    "collapsed": false
   },
   "outputs": [
    {
     "name": "stdout",
     "output_type": "stream",
     "text": [
      "2\n"
     ]
    }
   ],
   "source": [
    "add_one = lambda x: x + 1\n",
    "print(add_one(1))"
   ]
  },
  {
   "cell_type": "markdown",
   "metadata": {},
   "source": [
    "the x is the argument of the function, what follows after the `:` is the computation, which is returned automatically.\n",
    "\n",
    "This notation may take a little getting used to, but it is very helpful."
   ]
  },
  {
   "cell_type": "markdown",
   "metadata": {},
   "source": [
    "---"
   ]
  },
  {
   "cell_type": "markdown",
   "metadata": {},
   "source": [
    "##Mapping versus looping\n",
    "Maps apply a function to every item of a list (the iterable) and return a list.\n",
    "\n",
    "For instance:"
   ]
  },
  {
   "cell_type": "code",
   "execution_count": 56,
   "metadata": {
    "collapsed": false
   },
   "outputs": [
    {
     "name": "stdout",
     "output_type": "stream",
     "text": [
      "[5, 6, 7, 8, 9]\n"
     ]
    }
   ],
   "source": [
    "addFive = map(lambda x: x + 5, [0, 1, 2, 3, 4])\n",
    "print(addFive)"
   ]
  },
  {
   "cell_type": "code",
   "execution_count": 66,
   "metadata": {
    "collapsed": false
   },
   "outputs": [
    {
     "name": "stdout",
     "output_type": "stream",
     "text": [
      "[1, 0]\n"
     ]
    }
   ],
   "source": [
    "funCount = map(lambda x: x.count('Fun'), ['Functional', 'Disfunctional'])\n",
    "print(funCount)"
   ]
  },
  {
   "cell_type": "markdown",
   "metadata": {},
   "source": [
    "Pretty neat, no? This is what addFive that looks like with a for loop:"
   ]
  },
  {
   "cell_type": "code",
   "execution_count": 2,
   "metadata": {
    "collapsed": false
   },
   "outputs": [
    {
     "name": "stdout",
     "output_type": "stream",
     "text": [
      "[5, 6, 7, 8, 9]\n"
     ]
    }
   ],
   "source": [
    "addFive = [0, 1, 2, 3, 4]\n",
    "\n",
    "for idx, x in enumerate(addFive):\n",
    "    addFive[idx]= x + 5 \n",
    "\n",
    "print(addFive)"
   ]
  },
  {
   "cell_type": "markdown",
   "metadata": {},
   "source": [
    "###Exercise 1: Groceries\n",
    "Consider the piece of code below. It basically goes through your shopping list and buys everything on it. The buy function simply returns a string \"bought\". Obviously a real-life program should actually do something. It's your job to turn this into a piece of functional code:"
   ]
  },
  {
   "cell_type": "code",
   "execution_count": 93,
   "metadata": {
    "collapsed": false
   },
   "outputs": [
    {
     "name": "stdout",
     "output_type": "stream",
     "text": [
      "['bought', 'bought', 'bought', 'bought', 'bought', 'bought', 'bought', 'bought', 'bought']\n"
     ]
    }
   ],
   "source": [
    "def buy(item):\n",
    "    return 'bought'\n",
    "\n",
    "groceries = ['apple', 'pie', 'beef', 'jellybeans', 'bread', 'butter', 'cauliflower', 'banana', 'carrot']\n",
    "\n",
    "for idx, x in enumerate(groceries):\n",
    "    groceries[idx]= buy(x)\n",
    "\n",
    "print(groceries)\n"
   ]
  },
  {
   "cell_type": "markdown",
   "metadata": {},
   "source": [
    "---\n"
   ]
  },
  {
   "cell_type": "markdown",
   "metadata": {},
   "source": [
    "##Reduce\n",
    "What other fun things can we do with lists? We can reduce them to single values. Reduce applies a function with two arguments to a list and reduces that list to, you guessed it, a single value. The function works from left to right. \n",
    "\n",
    "An example: summing all the numbers in a list"
   ]
  },
  {
   "cell_type": "code",
   "execution_count": 77,
   "metadata": {
    "collapsed": false
   },
   "outputs": [
    {
     "name": "stdout",
     "output_type": "stream",
     "text": [
      "10\n"
     ]
    }
   ],
   "source": [
    "summer = reduce(lambda total, x: total + x, [0, 1, 2, 3, 4])\n",
    "print(summer)"
   ]
  },
  {
   "cell_type": "markdown",
   "metadata": {},
   "source": [
    "But not all reducing has to be mathematical. Maybe you want to turn your grocery list into a (way too long) variable name. Like so:"
   ]
  },
  {
   "cell_type": "code",
   "execution_count": 95,
   "metadata": {
    "collapsed": false
   },
   "outputs": [
    {
     "name": "stdout",
     "output_type": "stream",
     "text": [
      "apple_pie_beef_jellybeans_bread_butter_cauliflower_banana_carrot\n"
     ]
    }
   ],
   "source": [
    "superString = reduce(lambda total, string: total + '_' + string, ['apple', 'pie', 'beef', 'jellybeans', 'bread', \\\n",
    "                                                                  'butter', 'cauliflower', 'banana', 'carrot'])\n",
    "print (superString)"
   ]
  },
  {
   "cell_type": "markdown",
   "metadata": {},
   "source": [
    "(yeah that's a pretty ugly variable name. Don't try that at home ;) )"
   ]
  },
  {
   "cell_type": "markdown",
   "metadata": {},
   "source": [
    "###Exercise 2: Sum of Groceries\n",
    "Let's see if your grocery list fits a single tweet. Count the lengths of all string in an array and then sum them. For every string add +1 for space.\n",
    "\n",
    "The non-functional way:\n"
   ]
  },
  {
   "cell_type": "code",
   "execution_count": 97,
   "metadata": {
    "collapsed": false
   },
   "outputs": [
    {
     "name": "stdout",
     "output_type": "stream",
     "text": [
      "65\n"
     ]
    }
   ],
   "source": [
    "groceries = ['apple', 'pie', 'beef', 'jellybeans', 'bread', 'butter', 'cauliflower', 'banana', 'carrot']\n",
    "sum = 0\n",
    "\n",
    "for x in groceries:\n",
    "    sum +=len(x) +1 \n",
    "\n",
    "print(sum)"
   ]
  },
  {
   "cell_type": "markdown",
   "metadata": {},
   "source": [
    "---"
   ]
  },
  {
   "cell_type": "markdown",
   "metadata": {},
   "source": [
    "##Filter\n",
    "Only the best for you, so high time to filter out any undesirable values. Filter takes a list and a function and returns a filtered list (that is, a list of values for which the function returns true). Like say, if you happen to be on a diet, you want to make sure there's no pie on your grocery list.\n",
    "\n"
   ]
  },
  {
   "cell_type": "code",
   "execution_count": 3,
   "metadata": {
    "collapsed": false
   },
   "outputs": [
    {
     "name": "stdout",
     "output_type": "stream",
     "text": [
      "['apple', 'beef', 'jellybeans', 'bread', 'butter', 'cauliflower', 'banana', 'carrot']\n"
     ]
    }
   ],
   "source": [
    "noPie = filter(lambda x: x != \"pie\", ['apple', 'pie', 'beef', 'jellybeans', 'bread', \\\n",
    "                                      'butter', 'cauliflower', 'banana', 'carrot'])\n",
    "print(noPie)"
   ]
  },
  {
   "cell_type": "markdown",
   "metadata": {},
   "source": [
    "Or filter some numbers:"
   ]
  },
  {
   "cell_type": "code",
   "execution_count": 119,
   "metadata": {
    "collapsed": false
   },
   "outputs": [
    {
     "name": "stdout",
     "output_type": "stream",
     "text": [
      "[5, 10, 15]\n"
     ]
    }
   ],
   "source": [
    "#Gets numbers that can be divided by 5:\n",
    "divFive = filter(lambda x: x % 5 == 0, [1, 2, 3, 4, 5, 6, 7, 8, 9, 10, 11, 12, 13, 14, 15])\n",
    "print(divFive)"
   ]
  },
  {
   "cell_type": "markdown",
   "metadata": {},
   "source": [
    "###Exercise 3: Filter my Groceries\n",
    "We can take the grocery filter one step further and check whether the contents of your grocery list are on the veggies and fruits list. If they are, keep them. If not, they are not deemed healthy and need to go. This is what the non-functional version would look like:"
   ]
  },
  {
   "cell_type": "code",
   "execution_count": 4,
   "metadata": {
    "collapsed": false
   },
   "outputs": [
    {
     "name": "stdout",
     "output_type": "stream",
     "text": [
      "['apple', 'banana', 'cauliflower', 'carrot']\n"
     ]
    }
   ],
   "source": [
    "veggies = ['apple', 'pie', 'beef', 'jellybeans', 'bread', 'butter', 'cauliflower',\\\n",
    "           'banana', 'carrot']\n",
    "groceries = ['apple', 'orange', 'lemon', 'banana', 'cauliflower', 'carrot', 'potato']\n",
    "\n",
    "new_list = []\n",
    "for x in groceries:\n",
    "    if x in veggies:\n",
    "        new_list.append(x)\n",
    "\n",
    "print(new_list)"
   ]
  },
  {
   "cell_type": "markdown",
   "metadata": {},
   "source": [
    "Now do the same, but make it functional by using filter!"
   ]
  },
  {
   "cell_type": "markdown",
   "metadata": {},
   "source": [
    "---"
   ]
  },
  {
   "cell_type": "markdown",
   "metadata": {},
   "source": [
    "##The Whys\n",
    "Hooray! You now have a taste of functional programming. You have to admit, those maps and filters look pretty clean, right? And for the most part, they require a lot less code to write. But that's not the only reason we like them. Actually, it's not even the most important one. \n",
    "\n",
    "The main reason we like these functions is that they are functional. As mentioned in the beginning, that means they do not have side effects and do not depend on any data outside the function. \n",
    "\n",
    "Take the for loop in exercise 3. The loop changes the contents of something outside of it, new_list. In this example the code is still pretty concise and it's pretty clear what's going on. But imagine you are working on a much larger project, where things can have many different states that can be changed by many different functions. All of the sudden your code is this big pile of stateful functions that act in unpredictable ways. Your car, from our earlier example, starts driving while it's being painted, because no one remembered to check for that.\n",
    "\n",
    "Using map, reduce, filter (or any of the below) helps you avoid that, making your code much more predictable (and not in the boring way).\n",
    "\n",
    "If you're convinced and want to know what other functions Python has built in (like zip, any and all), check this out: https://docs.python.org/2/library/functions.html"
   ]
  },
  {
   "cell_type": "markdown",
   "metadata": {},
   "source": [
    "---"
   ]
  },
  {
   "cell_type": "markdown",
   "metadata": {},
   "source": [
    "##Recursion\n",
    "This is one of those concepts that's easy to overcomplicate. So let's not. A recursive function is a function that calls itself. Like a snake eating it's own tail. Take this while loop, it takes a grocery list and reverses it:"
   ]
  },
  {
   "cell_type": "code",
   "execution_count": 14,
   "metadata": {
    "collapsed": false
   },
   "outputs": [
    {
     "data": {
      "text/plain": [
       "['potato', 'carrot', 'cauliflower', 'banana', 'lemon', 'orange', 'apple']"
      ]
     },
     "execution_count": 14,
     "metadata": {},
     "output_type": "execute_result"
    }
   ],
   "source": [
    "groceries = ['apple', 'orange', 'lemon', 'banana', 'cauliflower', 'carrot', 'potato']\n",
    "new_list = []\n",
    "\n",
    "while len(groceries) > 0:\n",
    "    new_list.append(groceries.pop()) \n",
    "\n",
    "new_list"
   ]
  },
  {
   "cell_type": "markdown",
   "metadata": {},
   "source": [
    "Now, instead of using a while loop, we could have a function call itself until we have run through all the items:"
   ]
  },
  {
   "cell_type": "code",
   "execution_count": 15,
   "metadata": {
    "collapsed": false
   },
   "outputs": [
    {
     "data": {
      "text/plain": [
       "['potato', 'carrot', 'cauliflower', 'banana', 'lemon', 'orange', 'apple']"
      ]
     },
     "execution_count": 15,
     "metadata": {},
     "output_type": "execute_result"
    }
   ],
   "source": [
    "groceries = ['apple', 'orange', 'lemon', 'banana', 'cauliflower', 'carrot', 'potato']\n",
    "\n",
    "def reverse(old_list):\n",
    "    if len(old_list) > 0:\n",
    "        last = old_list[-1]\n",
    "        init = old_list[:-1]\n",
    "        return [last] + reverse(init)\n",
    "    return []\n",
    "\n",
    "reverse(groceries)"
   ]
  },
  {
   "cell_type": "markdown",
   "metadata": {},
   "source": [
    "A lot going on here, so let's recap. First off, we give a grocery list to a function. The function takes the list and gets the very last item ('last') as well as everything except for the last item ('init'). In case of our grocery list:\n",
    "\n",
    "```python\n",
    "last = 'potato'\n",
    "init = ['apple', 'orange', 'lemon', 'banana', 'cauliflower', 'carrot']\n",
    "```\n",
    "now we put 'potato' at the front of the list:\n",
    "\n",
    "```python\n",
    "potato + REST_OF_LIST\n",
    "```\n",
    "\n",
    "The rest of the list is stored in init. Next up we want to also reverse the items in init (cause ultimately, we want to reverse the entire list). \n",
    "\n",
    "```python\n",
    "return 'potato' + reverse(init)\n",
    "```\n",
    "\n",
    "And we start over again:\n",
    "\n",
    "```python\n",
    "last = 'carrot'\n",
    "init = ['apple', 'orange', 'lemon', 'banana', 'cauliflower']\n",
    "return 'potato' + 'carrot' + reverse(init)\n",
    "```\n",
    "\n",
    "we continue until there are no more items left!\n",
    "\n"
   ]
  },
  {
   "cell_type": "markdown",
   "metadata": {},
   "source": [
    "Another example? Sort a list of numbers from low to high:"
   ]
  },
  {
   "cell_type": "code",
   "execution_count": 6,
   "metadata": {
    "collapsed": false
   },
   "outputs": [
    {
     "data": {
      "text/plain": [
       "[1, 3, 5, 6, 8, 9, 10]"
      ]
     },
     "execution_count": 6,
     "metadata": {},
     "output_type": "execute_result"
    }
   ],
   "source": [
    "def quicksort(xs):    \n",
    "    if not xs:\n",
    "        return []\n",
    "    \n",
    "    head = xs[0]\n",
    "    rest = xs[1:]\n",
    "    left = quicksort(filter(lambda x: x < head, rest))\n",
    "    right = quicksort(filter(lambda x: x > head, rest))\n",
    "    \n",
    "    return left + [head] + right\n",
    "\n",
    "\n",
    "quicksort([9, 1, 5, 3, 6, 8, 10])"
   ]
  },
  {
   "cell_type": "markdown",
   "metadata": {},
   "source": [
    "A quicksort takes a list, gets the head (the first item) and filters the rest of the list, differentiating between numbers that are lower than the head (left) and numbers that are higher than the head (right). It then takes left and right and sorts those in the exact same way, by taking the head and breaking the rest of the list up in left and right. And so on and so forth... untill we end up with a sorted list."
   ]
  },
  {
   "cell_type": "markdown",
   "metadata": {},
   "source": [
    "If this is not exactly clear just yet, that's ok. Recursion is one of those concepts that requires a bit of time to sink in, before it starts to make sense. In the meantime, try doing one yourself."
   ]
  },
  {
   "cell_type": "markdown",
   "metadata": {},
   "source": [
    "###Exercise 4: Recurring Groceries\n",
    "Unfortunately groceries have to be done every week (at least), so you need a repeat function. Write a function that takes two arguments: the grocery list and the amount of times it needs to be repeated. Below you find the non-functional version, your job is to write this with recursion!"
   ]
  },
  {
   "cell_type": "code",
   "execution_count": 44,
   "metadata": {
    "collapsed": false
   },
   "outputs": [
    {
     "name": "stdout",
     "output_type": "stream",
     "text": [
      "[['apple', 'orange', 'lemon', 'banana', 'cauliflower'], ['apple', 'orange', 'lemon', 'banana', 'cauliflower'], ['apple', 'orange', 'lemon', 'banana', 'cauliflower'], ['apple', 'orange', 'lemon', 'banana', 'cauliflower'], ['apple', 'orange', 'lemon', 'banana', 'cauliflower'], ['apple', 'orange', 'lemon', 'banana', 'cauliflower'], ['apple', 'orange', 'lemon', 'banana', 'cauliflower'], ['apple', 'orange', 'lemon', 'banana', 'cauliflower'], ['apple', 'orange', 'lemon', 'banana', 'cauliflower'], ['apple', 'orange', 'lemon', 'banana', 'cauliflower']]\n"
     ]
    }
   ],
   "source": [
    "times = 10\n",
    "count = 0 \n",
    "\n",
    "groceries = ['apple', 'orange', 'lemon', 'banana', 'cauliflower']\n",
    "repeat_groceries = []\n",
    "\n",
    "while count < times: \n",
    "    repeat_groceries.append(groceries)\n",
    "    count += 1\n",
    "\n",
    "print(repeat_groceries)"
   ]
  },
  {
   "cell_type": "markdown",
   "metadata": {},
   "source": [
    "---"
   ]
  },
  {
   "cell_type": "markdown",
   "metadata": {},
   "source": [
    "## All together! "
   ]
  },
  {
   "cell_type": "markdown",
   "metadata": {},
   "source": [
    "You have seen some functional functions and one of my favorites: recursion! Now it's time to put it all together. One really great thing about function like map() and reduce() is that you can nest them. \n",
    "\n",
    "Example? Let's go back to our grocery list. Say, for some reason, we want to double our intake of everything that is not pie. In fact, we want to remove pie from our grocery list. "
   ]
  },
  {
   "cell_type": "code",
   "execution_count": 59,
   "metadata": {
    "collapsed": false
   },
   "outputs": [
    {
     "data": {
      "text/plain": [
       "['appleapple',\n",
       " 'orangeorange',\n",
       " 'lemonlemon',\n",
       " 'bananabanana',\n",
       " 'cauliflowercauliflower']"
      ]
     },
     "execution_count": 59,
     "metadata": {},
     "output_type": "execute_result"
    }
   ],
   "source": [
    "def double_non_pie(values):\n",
    "    return map(lambda x: x * 2 , filter(lambda x: \"pie\" not in x, values))\n",
    "double_non_pie(['apple', 'orange', 'applepie', 'lemon', 'pie', 'banana', 'cauliflower'])"
   ]
  },
  {
   "cell_type": "markdown",
   "metadata": {},
   "source": [
    "In the inner function we filtered the contents of our list and took out pie, in our outer function we doubled all the values in our filtered list. The best way to read this is to start on the inside and climb your way out :) \n",
    "\n",
    "We can take this even further by reducing the result of the previous to one long string:"
   ]
  },
  {
   "cell_type": "code",
   "execution_count": 60,
   "metadata": {
    "collapsed": false
   },
   "outputs": [
    {
     "data": {
      "text/plain": [
       "'appleapple_orangeorange_lemonlemon_bananabanana_cauliflowercauliflower'"
      ]
     },
     "execution_count": 60,
     "metadata": {},
     "output_type": "execute_result"
    }
   ],
   "source": [
    "def double_non_pie_str(values):\n",
    "    return reduce(lambda sum, x: sum +'_'+ x, map(lambda x: x * 2 , filter(lambda x: \"pie\" not in x, values)))\n",
    "double_non_pie_str(['apple', 'orange', 'applepie', 'lemon', 'pie', 'banana', 'cauliflower'])"
   ]
  },
  {
   "cell_type": "markdown",
   "metadata": {},
   "source": [
    "---"
   ]
  },
  {
   "cell_type": "markdown",
   "metadata": {},
   "source": [
    "##What's next?"
   ]
  },
  {
   "cell_type": "markdown",
   "metadata": {},
   "source": [
    "Start by going **[through the exercises](./Exercises - the Basics.ipynb)** we wrote for you (just click the link). In those exercises you will learn to combine multiple functions and concepts by solving actual problems in a functional way. Since this is an introduction into functional programming, we have limited ourselves to the basics. Once you're done with those, you can dive a little deeper by having a look at [our challenges](/tree/Challenges)."
   ]
  },
  {
   "cell_type": "markdown",
   "metadata": {},
   "source": [
    "If you want to continue your functional programming journey with Python, there's a lot more to learn. For starters, the official Python docs have an excellent – though dry – ['how to'](https://docs.python.org/dev/howto/functional.html) we can recommend you look at. Among others it will dive into the [itertools module](https://docs.python.org/dev/library/itertools.html#module-itertools), which we'll also touch on in the [UFO challenge](./Challenges/UFO Data.ipynb) already. Furhtermore, it will introduce the [functools](https://docs.python.org/dev/library/functools.html#module-functools) and the [operator](https://docs.python.org/dev/library/operator.html#module-operator) modules, which allow for some awesome composition and declerative code writing in python."
   ]
  },
  {
   "cell_type": "markdown",
   "metadata": {
    "collapsed": true
   },
   "source": [
    "***Have FUN!***"
   ]
  }
 ],
 "metadata": {
  "kernelspec": {
   "display_name": "Python 2",
   "language": "python",
   "name": "python2"
  },
  "language_info": {
   "codemirror_mode": {
    "name": "ipython",
    "version": 2
   },
   "file_extension": ".py",
   "mimetype": "text/x-python",
   "name": "python",
   "nbconvert_exporter": "python",
   "pygments_lexer": "ipython2",
   "version": "2.7.8"
  }
 },
 "nbformat": 4,
 "nbformat_minor": 0
}
